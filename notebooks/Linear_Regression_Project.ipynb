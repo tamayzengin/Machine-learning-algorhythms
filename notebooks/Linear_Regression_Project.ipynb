{
  "nbformat": 4,
  "nbformat_minor": 0,
  "metadata": {
    "colab": {
      "name": "Linear Regression Project.ipynb adlı dosyanın kopyası",
      "provenance": [],
      "collapsed_sections": [
        "T73g7sV6Cr8Y",
        "mUKurtrc_hHV",
        "9hH88ZncAdG6"
      ],
      "mount_file_id": "1NNQC4HM1PuRFDgrMohl2n8M5yk8Kp6yS",
      "authorship_tag": "ABX9TyPm/sOyPmxixTjtEHukw4C+",
      "include_colab_link": true
    },
    "kernelspec": {
      "name": "python3",
      "display_name": "Python 3"
    },
    "language_info": {
      "name": "python"
    }
  },
  "cells": [
    {
      "cell_type": "markdown",
      "metadata": {
        "id": "view-in-github",
        "colab_type": "text"
      },
      "source": [
        "<a href=\"https://colab.research.google.com/github/tamayzengin/Machine-learning-algorhythms/blob/main/notebooks/Linear_Regression_Project.ipynb\" target=\"_parent\"><img src=\"https://colab.research.google.com/assets/colab-badge.svg\" alt=\"Open In Colab\"/></a>"
      ]
    },
    {
      "cell_type": "code",
      "execution_count": null,
      "metadata": {
        "colab": {
          "base_uri": "https://localhost:8080/"
        },
        "id": "y54pntnvurN2",
        "outputId": "32dc5461-38c3-4894-f54a-2d296a269920"
      },
      "outputs": [
        {
          "output_type": "stream",
          "name": "stdout",
          "text": [
            "Drive already mounted at /content/drive; to attempt to forcibly remount, call drive.mount(\"/content/drive\", force_remount=True).\n"
          ]
        }
      ],
      "source": [
        "from google.colab import drive\n",
        "drive.mount('/content/drive')"
      ]
    },
    {
      "cell_type": "code",
      "source": [
        "import pandas as pd\n",
        "import seaborn as sns\n",
        "import numpy as np\n",
        "import matplotlib.pyplot as plt"
      ],
      "metadata": {
        "id": "QCAGL2A_u80k"
      },
      "execution_count": null,
      "outputs": []
    },
    {
      "cell_type": "code",
      "source": [
        "cd /content/drive/MyDrive/Colab Notebooks/DATA"
      ],
      "metadata": {
        "colab": {
          "base_uri": "https://localhost:8080/"
        },
        "id": "bJIFJBZsvPvH",
        "outputId": "bf8ce7d7-c9a9-40b1-aaf4-caba45d7947a"
      },
      "execution_count": null,
      "outputs": [
        {
          "output_type": "stream",
          "name": "stdout",
          "text": [
            "/content/drive/MyDrive/Colab Notebooks/DATA\n"
          ]
        }
      ]
    },
    {
      "cell_type": "code",
      "source": [
        "df = pd.read_csv(\"Ames_Housing_Data_final_version.csv\")"
      ],
      "metadata": {
        "id": "qAFZrmLuvRQe"
      },
      "execution_count": null,
      "outputs": []
    },
    {
      "cell_type": "code",
      "source": [
        "df.info()"
      ],
      "metadata": {
        "colab": {
          "base_uri": "https://localhost:8080/"
        },
        "id": "ylZdYKf1veE6",
        "outputId": "4fd05ecf-c78a-43c0-f706-4524c606276e"
      },
      "execution_count": null,
      "outputs": [
        {
          "output_type": "stream",
          "name": "stdout",
          "text": [
            "<class 'pandas.core.frame.DataFrame'>\n",
            "RangeIndex: 2925 entries, 0 to 2924\n",
            "Columns: 275 entries, Unnamed: 0 to Sale Condition_Partial\n",
            "dtypes: float64(11), int64(264)\n",
            "memory usage: 6.1 MB\n"
          ]
        }
      ]
    },
    {
      "cell_type": "code",
      "source": [
        "df = df.drop('Unnamed: 0',axis=1)"
      ],
      "metadata": {
        "id": "yHU7JgIevfpF"
      },
      "execution_count": null,
      "outputs": []
    },
    {
      "cell_type": "code",
      "source": [
        "X = df.drop('SalePrice',axis=1)"
      ],
      "metadata": {
        "id": "U95-cVtMwVW3"
      },
      "execution_count": null,
      "outputs": []
    },
    {
      "cell_type": "code",
      "source": [
        "y = df['SalePrice']"
      ],
      "metadata": {
        "id": "GGg55AwowkK2"
      },
      "execution_count": null,
      "outputs": []
    },
    {
      "cell_type": "code",
      "source": [
        "from sklearn.model_selection import train_test_split"
      ],
      "metadata": {
        "id": "FPAEv0soHRyE"
      },
      "execution_count": null,
      "outputs": []
    },
    {
      "cell_type": "code",
      "source": [
        "X_train, X_test, y_train, y_test = train_test_split(X, y, test_size=0.1, random_state=101)"
      ],
      "metadata": {
        "id": "UK1nlBRyH8bQ"
      },
      "execution_count": null,
      "outputs": []
    },
    {
      "cell_type": "code",
      "source": [
        "from sklearn.preprocessing import StandardScaler"
      ],
      "metadata": {
        "id": "zNXKwPW9IIEU"
      },
      "execution_count": null,
      "outputs": []
    },
    {
      "cell_type": "code",
      "source": [
        "scaler = StandardScaler()"
      ],
      "metadata": {
        "id": "UYxHg9bIjLyN"
      },
      "execution_count": null,
      "outputs": []
    },
    {
      "cell_type": "code",
      "source": [
        "scaler.fit(X_train) #scaler.fit_tansform(X_train) also can be used for train set"
      ],
      "metadata": {
        "colab": {
          "base_uri": "https://localhost:8080/"
        },
        "id": "KiSkJtS-jNsd",
        "outputId": "a1eea789-943b-475b-a6f4-16fdeff868b9"
      },
      "execution_count": null,
      "outputs": [
        {
          "output_type": "execute_result",
          "data": {
            "text/plain": [
              "StandardScaler()"
            ]
          },
          "metadata": {},
          "execution_count": 13
        }
      ]
    },
    {
      "cell_type": "code",
      "source": [
        "X_train = scaler.transform(X_train)\n",
        "X_test = scaler.transform(X_test)"
      ],
      "metadata": {
        "id": "LhlIEyHjjX1N"
      },
      "execution_count": null,
      "outputs": []
    },
    {
      "cell_type": "markdown",
      "source": [
        "#**ElasticNet**"
      ],
      "metadata": {
        "id": "T73g7sV6Cr8Y"
      }
    },
    {
      "cell_type": "code",
      "source": [
        "from sklearn.linear_model import ElasticNet "
      ],
      "metadata": {
        "id": "4Wz5Hz09jgLH"
      },
      "execution_count": null,
      "outputs": []
    },
    {
      "cell_type": "code",
      "source": [
        "base_elastic_net = ElasticNet(max_iter=1000000000)"
      ],
      "metadata": {
        "id": "RYpq6N1Pjnc1"
      },
      "execution_count": null,
      "outputs": []
    },
    {
      "cell_type": "code",
      "source": [
        "\"\"\"param_grid = {\n",
        "        'alpha':[1,5,10,50],\n",
        "        'l1_ratio':[0.1,0.5,0.95,1]   }\"\"\" #best_param_ seçeneğinde l1:1 çıktı bu durumda Lasso kullanmak mantıklı. L1'i 1 seçip alpha'yı yükselt"
      ],
      "metadata": {
        "colab": {
          "base_uri": "https://localhost:8080/",
          "height": 35
        },
        "id": "9W8dgPpOjr7f",
        "outputId": "683aa7cb-0b15-46ea-f8ce-e10230018f2e"
      },
      "execution_count": null,
      "outputs": [
        {
          "output_type": "execute_result",
          "data": {
            "text/plain": [
              "\"param_grid = {\\n        'alpha':[1,5,10,50],\\n        'l1_ratio':[0.1,0.5,0.95,1]   }\""
            ],
            "application/vnd.google.colaboratory.intrinsic+json": {
              "type": "string"
            }
          },
          "metadata": {},
          "execution_count": 17
        }
      ]
    },
    {
      "cell_type": "code",
      "source": [
        "param_grid = {\n",
        "        'alpha':[1,5,10,50,100,500,1000],\n",
        "        'l1_ratio':[1]}"
      ],
      "metadata": {
        "id": "qRvLrzRwpn3S"
      },
      "execution_count": null,
      "outputs": []
    },
    {
      "cell_type": "code",
      "source": [
        "from sklearn.model_selection import GridSearchCV"
      ],
      "metadata": {
        "id": "H-NuTiUakU2Y"
      },
      "execution_count": null,
      "outputs": []
    },
    {
      "cell_type": "code",
      "source": [
        "grid_model = GridSearchCV(estimator=base_elastic_net,\n",
        "                          param_grid=param_grid,\n",
        "                          scoring='neg_mean_squared_error',\n",
        "                          cv=5,\n",
        "                          verbose=1)"
      ],
      "metadata": {
        "id": "dh_3xEH3kZ5A"
      },
      "execution_count": null,
      "outputs": []
    },
    {
      "cell_type": "code",
      "source": [
        "grid_model.fit(X_train,y_train)"
      ],
      "metadata": {
        "colab": {
          "base_uri": "https://localhost:8080/"
        },
        "id": "kDuCxukxkrbO",
        "outputId": "6152c825-5bd0-42fe-8f02-70730f71f919"
      },
      "execution_count": null,
      "outputs": [
        {
          "output_type": "stream",
          "name": "stdout",
          "text": [
            "Fitting 5 folds for each of 7 candidates, totalling 35 fits\n"
          ]
        },
        {
          "output_type": "execute_result",
          "data": {
            "text/plain": [
              "GridSearchCV(cv=5, estimator=ElasticNet(max_iter=1000000000),\n",
              "             param_grid={'alpha': [1, 5, 10, 50, 100, 500, 1000],\n",
              "                         'l1_ratio': [1]},\n",
              "             scoring='neg_mean_squared_error', verbose=1)"
            ]
          },
          "metadata": {},
          "execution_count": 21
        }
      ]
    },
    {
      "cell_type": "code",
      "source": [
        "grid_model.best_estimator_"
      ],
      "metadata": {
        "colab": {
          "base_uri": "https://localhost:8080/"
        },
        "id": "DgrxUz6_kuID",
        "outputId": "fbb290f3-34bc-40f2-d7f1-187f972b6d54"
      },
      "execution_count": null,
      "outputs": [
        {
          "output_type": "execute_result",
          "data": {
            "text/plain": [
              "ElasticNet(alpha=100, l1_ratio=1, max_iter=1000000000)"
            ]
          },
          "metadata": {},
          "execution_count": 22
        }
      ]
    },
    {
      "cell_type": "code",
      "source": [
        "#grid_model.cv_results_"
      ],
      "metadata": {
        "id": "oAS6wDnQkv5G"
      },
      "execution_count": null,
      "outputs": []
    },
    {
      "cell_type": "code",
      "source": [
        "#pd.DataFrame(grid_model.cv_results_)"
      ],
      "metadata": {
        "id": "hPhVcb6KlDh-"
      },
      "execution_count": null,
      "outputs": []
    },
    {
      "cell_type": "code",
      "source": [
        "y_predict = grid_model.predict(X_test)"
      ],
      "metadata": {
        "id": "MJ8v2EhslHo_"
      },
      "execution_count": null,
      "outputs": []
    },
    {
      "cell_type": "code",
      "source": [
        "from sklearn.metrics import mean_squared_error,mean_absolute_error"
      ],
      "metadata": {
        "id": "tw7k5jJOlSYA"
      },
      "execution_count": null,
      "outputs": []
    },
    {
      "cell_type": "code",
      "source": [
        "np.sqrt(mean_squared_error(y_test,y_predict))"
      ],
      "metadata": {
        "colab": {
          "base_uri": "https://localhost:8080/"
        },
        "id": "iP2ODi1LlU0q",
        "outputId": "da85a393-d527-4310-a6b0-b7b710ec44ab"
      },
      "execution_count": null,
      "outputs": [
        {
          "output_type": "execute_result",
          "data": {
            "text/plain": [
              "20558.508566893164"
            ]
          },
          "metadata": {},
          "execution_count": 27
        }
      ]
    },
    {
      "cell_type": "code",
      "source": [
        "mean_absolute_error(y_test,y_predict)"
      ],
      "metadata": {
        "colab": {
          "base_uri": "https://localhost:8080/"
        },
        "id": "DSiBfnUBlaZ_",
        "outputId": "6fe08773-0827-48b8-9851-5b3e5156ce2a"
      },
      "execution_count": null,
      "outputs": [
        {
          "output_type": "execute_result",
          "data": {
            "text/plain": [
              "14195.35490056217"
            ]
          },
          "metadata": {},
          "execution_count": 28
        }
      ]
    },
    {
      "cell_type": "code",
      "source": [
        "np.mean(df['SalePrice'])"
      ],
      "metadata": {
        "id": "Rx2nhjDImtCH",
        "colab": {
          "base_uri": "https://localhost:8080/"
        },
        "outputId": "0a582861-6dac-4fc6-89ec-e4e7580ae54d"
      },
      "execution_count": null,
      "outputs": [
        {
          "output_type": "execute_result",
          "data": {
            "text/plain": [
              "180815.53743589742"
            ]
          },
          "metadata": {},
          "execution_count": 29
        }
      ]
    },
    {
      "cell_type": "markdown",
      "source": [
        "#**Lasso Regression**"
      ],
      "metadata": {
        "id": "mUKurtrc_hHV"
      }
    },
    {
      "cell_type": "markdown",
      "source": [
        "L1 regression also can be used in this case due to our founded values by using ElasticNet regression"
      ],
      "metadata": {
        "id": "mwPjujGW_-ob"
      }
    },
    {
      "cell_type": "code",
      "source": [
        "from sklearn.linear_model import LassoCV"
      ],
      "metadata": {
        "id": "S9ON6Cvsm154"
      },
      "execution_count": null,
      "outputs": []
    },
    {
      "cell_type": "code",
      "source": [
        "lasso_cv_model = LassoCV(eps=0.001,n_alphas=100,cv=10,max_iter=1000000)"
      ],
      "metadata": {
        "id": "ecvQOZ_7_nH9"
      },
      "execution_count": null,
      "outputs": []
    },
    {
      "cell_type": "code",
      "source": [
        "lasso_cv_model.fit(X_train,y_train)"
      ],
      "metadata": {
        "colab": {
          "base_uri": "https://localhost:8080/"
        },
        "id": "NiaRWDSq_t4x",
        "outputId": "5d4dd5f0-84d7-4858-e002-8796cf0594ee"
      },
      "execution_count": null,
      "outputs": [
        {
          "output_type": "execute_result",
          "data": {
            "text/plain": [
              "LassoCV(cv=10, max_iter=1000000)"
            ]
          },
          "metadata": {},
          "execution_count": 32
        }
      ]
    },
    {
      "cell_type": "code",
      "source": [
        "lasso_cv_model"
      ],
      "metadata": {
        "colab": {
          "base_uri": "https://localhost:8080/"
        },
        "id": "xzu_TuzW_wGu",
        "outputId": "a478d8a0-847a-4bd0-ccf2-f424364b1ee5"
      },
      "execution_count": null,
      "outputs": [
        {
          "output_type": "execute_result",
          "data": {
            "text/plain": [
              "LassoCV(cv=10, max_iter=1000000)"
            ]
          },
          "metadata": {},
          "execution_count": 33
        }
      ]
    },
    {
      "cell_type": "code",
      "source": [
        "test_predictions = lasso_cv_model.predict(X_test)"
      ],
      "metadata": {
        "id": "2NZDfJ0i_x_1"
      },
      "execution_count": null,
      "outputs": []
    },
    {
      "cell_type": "code",
      "source": [
        "mean_absolute_error(y_test,test_predictions)"
      ],
      "metadata": {
        "colab": {
          "base_uri": "https://localhost:8080/"
        },
        "id": "yDsqvxZ0_1iE",
        "outputId": "517f3dc5-a659-41df-d35f-ccb6cfb48cd2"
      },
      "execution_count": null,
      "outputs": [
        {
          "output_type": "execute_result",
          "data": {
            "text/plain": [
              "14190.943058112603"
            ]
          },
          "metadata": {},
          "execution_count": 35
        }
      ]
    },
    {
      "cell_type": "code",
      "source": [
        "np.sqrt(mean_squared_error(y_test,test_predictions))"
      ],
      "metadata": {
        "colab": {
          "base_uri": "https://localhost:8080/"
        },
        "id": "lHDEWOht_2rR",
        "outputId": "a85f2910-9327-4640-db76-332c4336c6fa"
      },
      "execution_count": null,
      "outputs": [
        {
          "output_type": "execute_result",
          "data": {
            "text/plain": [
              "20554.562644215308"
            ]
          },
          "metadata": {},
          "execution_count": 36
        }
      ]
    },
    {
      "cell_type": "markdown",
      "source": [
        "#**Ridge Regression**"
      ],
      "metadata": {
        "id": "9hH88ZncAdG6"
      }
    },
    {
      "cell_type": "code",
      "source": [
        "from sklearn.linear_model import Ridge"
      ],
      "metadata": {
        "id": "nh5zgqYxAhil"
      },
      "execution_count": null,
      "outputs": []
    },
    {
      "cell_type": "code",
      "source": [
        "ridge_model = Ridge(alpha=10)"
      ],
      "metadata": {
        "id": "ReQUdUFCCQY0"
      },
      "execution_count": null,
      "outputs": []
    },
    {
      "cell_type": "code",
      "source": [
        "ridge_model.fit(X_train,y_train)"
      ],
      "metadata": {
        "colab": {
          "base_uri": "https://localhost:8080/"
        },
        "id": "rLMNud4ECWcc",
        "outputId": "2215936c-df4f-44c5-d135-a6730c0ddc9a"
      },
      "execution_count": null,
      "outputs": [
        {
          "output_type": "execute_result",
          "data": {
            "text/plain": [
              "Ridge(alpha=10)"
            ]
          },
          "metadata": {},
          "execution_count": 41
        }
      ]
    },
    {
      "cell_type": "code",
      "source": [
        "test_predictions = ridge_model.predict(X_test)"
      ],
      "metadata": {
        "id": "5YIVfZd8CWnv"
      },
      "execution_count": null,
      "outputs": []
    },
    {
      "cell_type": "code",
      "source": [
        "MAE = mean_absolute_error(y_test,test_predictions)"
      ],
      "metadata": {
        "id": "f_BrH6VLCX0f"
      },
      "execution_count": null,
      "outputs": []
    },
    {
      "cell_type": "code",
      "source": [
        "RMSE = np.sqrt(mean_squared_error(y_test,test_predictions))"
      ],
      "metadata": {
        "id": "LRPiI7JjCkdq"
      },
      "execution_count": null,
      "outputs": []
    },
    {
      "cell_type": "code",
      "source": [
        "MAE"
      ],
      "metadata": {
        "colab": {
          "base_uri": "https://localhost:8080/"
        },
        "id": "GYo2jzuDClq8",
        "outputId": "9335178d-5428-494e-ecec-6351d4bf0115"
      },
      "execution_count": null,
      "outputs": [
        {
          "output_type": "execute_result",
          "data": {
            "text/plain": [
              "14456.308588471991"
            ]
          },
          "metadata": {},
          "execution_count": 45
        }
      ]
    },
    {
      "cell_type": "code",
      "source": [
        "RMSE"
      ],
      "metadata": {
        "colab": {
          "base_uri": "https://localhost:8080/"
        },
        "id": "sehbZI6fCmWH",
        "outputId": "ca660b19-ea33-48cb-d500-324ee172e20c"
      },
      "execution_count": null,
      "outputs": [
        {
          "output_type": "execute_result",
          "data": {
            "text/plain": [
              "20806.47164997894"
            ]
          },
          "metadata": {},
          "execution_count": 46
        }
      ]
    }
  ]
}