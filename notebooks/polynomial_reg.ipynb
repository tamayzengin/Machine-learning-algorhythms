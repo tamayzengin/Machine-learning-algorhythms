{
  "nbformat": 4,
  "nbformat_minor": 0,
  "metadata": {
    "colab": {
      "name": "polynomial_reg.ipynb",
      "provenance": [],
      "collapsed_sections": [],
      "mount_file_id": "16YEXjcoRjOlPhxF412yT3upLfsqH5iq3",
      "authorship_tag": "ABX9TyOsxCYZ4pOilSjymY+sA0G8",
      "include_colab_link": true
    },
    "kernelspec": {
      "name": "python3",
      "display_name": "Python 3"
    },
    "language_info": {
      "name": "python"
    }
  },
  "cells": [
    {
      "cell_type": "markdown",
      "metadata": {
        "id": "view-in-github",
        "colab_type": "text"
      },
      "source": [
        "<a href=\"https://colab.research.google.com/github/tamayzengin/Machine-learning-algorhythms/blob/main/notebooks/polynomial_reg.ipynb\" target=\"_parent\"><img src=\"https://colab.research.google.com/assets/colab-badge.svg\" alt=\"Open In Colab\"/></a>"
      ]
    },
    {
      "cell_type": "code",
      "execution_count": 10,
      "metadata": {
        "id": "bP5o_umG4kiq"
      },
      "outputs": [],
      "source": [
        "import pandas as pd \n",
        "import numpy as np\n",
        "import sklearn as sk\n",
        "import matplotlib.pyplot as plt\n",
        "import seaborn as sns"
      ]
    },
    {
      "cell_type": "code",
      "source": [
        "from google.colab import drive\n",
        "drive.mount('/content/drive')"
      ],
      "metadata": {
        "colab": {
          "base_uri": "https://localhost:8080/"
        },
        "id": "G3lsF0DwOZwn",
        "outputId": "13031f14-4229-4564-e6af-cc0068d0a404"
      },
      "execution_count": 9,
      "outputs": [
        {
          "output_type": "stream",
          "name": "stdout",
          "text": [
            "Mounted at /content/drive\n"
          ]
        }
      ]
    },
    {
      "cell_type": "code",
      "source": [
        "cd /content/drive/MyDrive/Colab Notebooks/DATA"
      ],
      "metadata": {
        "colab": {
          "base_uri": "https://localhost:8080/"
        },
        "id": "5agsgtcd4qyX",
        "outputId": "884b6a67-43b6-4dbe-bd1a-20a105403c25"
      },
      "execution_count": 11,
      "outputs": [
        {
          "output_type": "stream",
          "name": "stdout",
          "text": [
            "/content/drive/MyDrive/Colab Notebooks/DATA\n"
          ]
        }
      ]
    },
    {
      "cell_type": "code",
      "source": [
        "df = pd.read_csv('Advertising.csv')"
      ],
      "metadata": {
        "id": "AMJa9a1l4ufn"
      },
      "execution_count": 12,
      "outputs": []
    },
    {
      "cell_type": "code",
      "source": [
        "X = df.drop('sales',axis=1)"
      ],
      "metadata": {
        "id": "fAD9laci7KfH"
      },
      "execution_count": 13,
      "outputs": []
    },
    {
      "cell_type": "code",
      "source": [
        "y = df['sales']"
      ],
      "metadata": {
        "id": "KZLkg43J9QVp"
      },
      "execution_count": 14,
      "outputs": []
    },
    {
      "cell_type": "code",
      "source": [
        "from sklearn.preprocessing import PolynomialFeatures"
      ],
      "metadata": {
        "id": "SeKV7MBq9SHf"
      },
      "execution_count": 15,
      "outputs": []
    },
    {
      "cell_type": "code",
      "source": [
        "polynomial_converter = PolynomialFeatures(degree=2,include_bias=False)"
      ],
      "metadata": {
        "id": "wAJFcrLt9UPe"
      },
      "execution_count": 16,
      "outputs": []
    },
    {
      "cell_type": "code",
      "source": [
        "# Converter \"fits\" to data, in this case, reads in every X column\n",
        "# Then it \"transforms\" and ouputs the new polynomial data\n",
        "poly_features = polynomial_converter.fit_transform(X)"
      ],
      "metadata": {
        "id": "wMzwYwV09Vw_"
      },
      "execution_count": 17,
      "outputs": []
    },
    {
      "cell_type": "code",
      "source": [
        "from sklearn.model_selection import train_test_split"
      ],
      "metadata": {
        "id": "Dc1vmW8M9XTW"
      },
      "execution_count": 18,
      "outputs": []
    },
    {
      "cell_type": "code",
      "source": [
        "# random_state: \n",
        "# https://stackoverflow.com/questions/28064634/random-state-pseudo-random-number-in-scikit-learn\n",
        "X_train, X_test, y_train, y_test = train_test_split(poly_features, y, test_size=0.3, random_state=101)"
      ],
      "metadata": {
        "id": "c1fIFDhx9cBq"
      },
      "execution_count": 19,
      "outputs": []
    },
    {
      "cell_type": "code",
      "source": [
        "from sklearn.linear_model import LinearRegression"
      ],
      "metadata": {
        "id": "SNoCa8n79eF2"
      },
      "execution_count": 20,
      "outputs": []
    },
    {
      "cell_type": "code",
      "source": [
        "model = LinearRegression(fit_intercept=True)"
      ],
      "metadata": {
        "id": "I7FpfwuQ9hF9"
      },
      "execution_count": 21,
      "outputs": []
    },
    {
      "cell_type": "code",
      "source": [
        "model.fit(X_train,y_train)"
      ],
      "metadata": {
        "id": "S8q6MrcY9iiF",
        "colab": {
          "base_uri": "https://localhost:8080/"
        },
        "outputId": "2e7e22ae-0140-4715-8677-f43b0d876382"
      },
      "execution_count": 22,
      "outputs": [
        {
          "output_type": "execute_result",
          "data": {
            "text/plain": [
              "LinearRegression()"
            ]
          },
          "metadata": {},
          "execution_count": 22
        }
      ]
    },
    {
      "cell_type": "code",
      "source": [
        "test_predictions = model.predict(X_test)"
      ],
      "metadata": {
        "id": "dunNn06u9kpl"
      },
      "execution_count": 23,
      "outputs": []
    },
    {
      "cell_type": "code",
      "source": [
        "from sklearn.metrics import mean_absolute_error,mean_squared_error"
      ],
      "metadata": {
        "id": "eMU-KFOt9myo"
      },
      "execution_count": 24,
      "outputs": []
    },
    {
      "cell_type": "code",
      "source": [
        "MAE = mean_absolute_error(y_test,test_predictions)\n",
        "MSE = mean_squared_error(y_test,test_predictions)\n",
        "RMSE = np.sqrt(MSE)"
      ],
      "metadata": {
        "id": "4S2bE8zY9oeS"
      },
      "execution_count": 25,
      "outputs": []
    },
    {
      "cell_type": "code",
      "source": [
        "df['sales'].mean()"
      ],
      "metadata": {
        "id": "GZuT07Rt9qN4",
        "colab": {
          "base_uri": "https://localhost:8080/"
        },
        "outputId": "b2f8de99-fe03-40f3-9564-fce3f8108c5f"
      },
      "execution_count": 26,
      "outputs": [
        {
          "output_type": "execute_result",
          "data": {
            "text/plain": [
              "14.0225"
            ]
          },
          "metadata": {},
          "execution_count": 26
        }
      ]
    },
    {
      "cell_type": "code",
      "source": [
        "train_rmse_errors = []\n",
        "test_rmse_errors= []\n",
        "\n",
        "for d in range(1,10):\n",
        "  poly_converter = PolynomialFeatures(degree=d,include_bias=True)\n",
        "  poly_features = poly_converter.fit_transform(X)\n",
        "\n",
        "  X_train, X_test, y_train, y_test = train_test_split(poly_features, y, test_size=0.3, random_state=101)\n",
        "  model = LinearRegression()\n",
        "  model.fit(X_train,y_train)\n",
        "\n",
        "  train_pred =  model.predict(X_train)\n",
        "  test_pred = model.predict(X_test)\n",
        "  train_rmse = np.sqrt(mean_squared_error(y_train,train_pred))\n",
        "  test_rmse = np.sqrt(mean_squared_error(y_test,test_pred))\n",
        "\n",
        "  train_rmse_errors.append(train_rmse)\n",
        "  test_rmse_errors.append(test_rmse)"
      ],
      "metadata": {
        "id": "kGnHvfo59sDl"
      },
      "execution_count": 27,
      "outputs": []
    },
    {
      "cell_type": "code",
      "source": [
        "train_rmse_errors"
      ],
      "metadata": {
        "id": "PaSWpWrt973O",
        "colab": {
          "base_uri": "https://localhost:8080/"
        },
        "outputId": "6f90adef-2960-4d8e-8652-4b427aca9d6d"
      },
      "execution_count": 28,
      "outputs": [
        {
          "output_type": "execute_result",
          "data": {
            "text/plain": [
              "[1.734594124329376,\n",
              " 0.5879574085292232,\n",
              " 0.43393443569020657,\n",
              " 0.46949224731176714,\n",
              " 0.2812063154520143,\n",
              " 0.32477507438982756,\n",
              " 1.5208810648830775,\n",
              " 0.15150070609924057,\n",
              " 0.17187211718017767]"
            ]
          },
          "metadata": {},
          "execution_count": 28
        }
      ]
    },
    {
      "cell_type": "code",
      "source": [
        "test_rmse_errors"
      ],
      "metadata": {
        "id": "XYY-urpzAz_1",
        "colab": {
          "base_uri": "https://localhost:8080/"
        },
        "outputId": "24f1cfa4-e665-4d37-d0e7-9fb1546f84b7"
      },
      "execution_count": 29,
      "outputs": [
        {
          "output_type": "execute_result",
          "data": {
            "text/plain": [
              "[1.5161519375993882,\n",
              " 0.6646431757268308,\n",
              " 0.5803286825186187,\n",
              " 1.2579853069311169,\n",
              " 3.457942100312966,\n",
              " 1.3750403135068139,\n",
              " 539.7427147359965,\n",
              " 3951.8857753920433,\n",
              " 96218.25176592823]"
            ]
          },
          "metadata": {},
          "execution_count": 29
        }
      ]
    },
    {
      "cell_type": "code",
      "source": [
        "plt.plot(range(1,6),train_rmse_errors[:5],label='TRAIN RMSE')\n",
        "plt.plot(range(1,6),test_rmse_errors[:5],label='TEST RMSE')\n",
        "plt.legend();"
      ],
      "metadata": {
        "id": "9BAdYr7hA6u1",
        "colab": {
          "base_uri": "https://localhost:8080/",
          "height": 265
        },
        "outputId": "a9649308-dccf-4092-950d-ba089e279e0f"
      },
      "execution_count": 30,
      "outputs": [
        {
          "output_type": "display_data",
          "data": {
            "text/plain": [
              "<Figure size 432x288 with 1 Axes>"
            ],
            "image/png": "[encoded data removed]"
          },
          "metadata": {
            "needs_background": "light"
          }
        }
      ]
    },
    {
      "cell_type": "code",
      "source": [
        "final_poly_converter = PolynomialFeatures(degree = 3, include_bias= True)"
      ],
      "metadata": {
        "id": "yJrqp2tHBYFn"
      },
      "execution_count": 31,
      "outputs": []
    },
    {
      "cell_type": "code",
      "source": [
        "final_model = LinearRegression()"
      ],
      "metadata": {
        "id": "wwkJZhgNFnQv"
      },
      "execution_count": 32,
      "outputs": []
    },
    {
      "cell_type": "code",
      "source": [
        "fully_converted_X = final_poly_converter.fit_transform(X)\n",
        "model.fit(fully_converted_X,y)"
      ],
      "metadata": {
        "id": "3q50vLogFrOO",
        "colab": {
          "base_uri": "https://localhost:8080/"
        },
        "outputId": "9e2776c9-803c-4627-a2f7-44b01aa67667"
      },
      "execution_count": 33,
      "outputs": [
        {
          "output_type": "execute_result",
          "data": {
            "text/plain": [
              "LinearRegression()"
            ]
          },
          "metadata": {},
          "execution_count": 33
        }
      ]
    },
    {
      "cell_type": "code",
      "source": [
        "from joblib import dump,load"
      ],
      "metadata": {
        "id": "9Fq77q8nF2Yf"
      },
      "execution_count": 34,
      "outputs": []
    },
    {
      "cell_type": "code",
      "source": [
        "dump(final_model,'final_poly_model.joblib')"
      ],
      "metadata": {
        "id": "2Y2BTANEGlBS",
        "colab": {
          "base_uri": "https://localhost:8080/"
        },
        "outputId": "867ae822-3710-4c17-f0e3-978eba2a2846"
      },
      "execution_count": 35,
      "outputs": [
        {
          "output_type": "execute_result",
          "data": {
            "text/plain": [
              "['final_poly_model.joblib']"
            ]
          },
          "metadata": {},
          "execution_count": 35
        }
      ]
    },
    {
      "cell_type": "code",
      "source": [
        "dump(final_poly_converter,'final_poly_converter.joblib')"
      ],
      "metadata": {
        "id": "GLeLAB0oGtBf",
        "colab": {
          "base_uri": "https://localhost:8080/"
        },
        "outputId": "0c0716aa-4e3b-4964-ecd2-55e6dbf5093d"
      },
      "execution_count": 36,
      "outputs": [
        {
          "output_type": "execute_result",
          "data": {
            "text/plain": [
              "['final_poly_converter.joblib']"
            ]
          },
          "metadata": {},
          "execution_count": 36
        }
      ]
    },
    {
      "cell_type": "code",
      "source": [
        "loaded_converter = load('final_poly_converter.joblib')"
      ],
      "metadata": {
        "id": "JuRS6bLyG0X6"
      },
      "execution_count": 37,
      "outputs": []
    },
    {
      "cell_type": "code",
      "source": [
        "loaded_model = load('final_poly_model.joblib')"
      ],
      "metadata": {
        "id": "Er58sBoDHF87"
      },
      "execution_count": 38,
      "outputs": []
    },
    {
      "cell_type": "code",
      "source": [
        "campaign  = [[149,22,10]]"
      ],
      "metadata": {
        "id": "71vqTpLvHKNN"
      },
      "execution_count": 39,
      "outputs": []
    },
    {
      "cell_type": "code",
      "source": [
        "campaign_poly = loaded_converter.fit(campaign)"
      ],
      "metadata": {
        "id": "pkpoBjq5HQ3T"
      },
      "execution_count": 40,
      "outputs": []
    },
    {
      "cell_type": "code",
      "source": [
        "campaign_poly.transform(campaign).shape"
      ],
      "metadata": {
        "id": "3ceLdegzHmdV",
        "colab": {
          "base_uri": "https://localhost:8080/"
        },
        "outputId": "49ce920c-fa71-4cdc-9fab-39fefd68fd46"
      },
      "execution_count": 41,
      "outputs": [
        {
          "output_type": "execute_result",
          "data": {
            "text/plain": [
              "(1, 20)"
            ]
          },
          "metadata": {},
          "execution_count": 41
        }
      ]
    },
    {
      "cell_type": "code",
      "source": [
        ""
      ],
      "metadata": {
        "id": "IQAUuqqeKAwV"
      },
      "execution_count": 41,
      "outputs": []
    },
    {
      "cell_type": "code",
      "source": [
        ""
      ],
      "metadata": {
        "id": "bUU6ApvgH1lf"
      },
      "execution_count": 42,
      "outputs": []
    },
    {
      "cell_type": "code",
      "source": [
        ""
      ],
      "metadata": {
        "id": "RlI-vOMIKTI1"
      },
      "execution_count": 42,
      "outputs": []
    }
  ]
}