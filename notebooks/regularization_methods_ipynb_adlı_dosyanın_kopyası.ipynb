{
  "nbformat": 4,
  "nbformat_minor": 0,
  "metadata": {
    "colab": {
      "name": "regularization_methods.ipynb adlı dosyanın kopyası",
      "provenance": [],
      "collapsed_sections": [
        "No9IlEsTbaoL",
        "Y3lI4Q7K3_Kq",
        "XIw9cVXUClSJ",
        "X6KKhVUxC8ll",
        "7-A-ssHSNpfM"
      ],
      "mount_file_id": "1DUKMBh3nXzwdr2oPnJHhZHOoqKXervEz",
      "authorship_tag": "ABX9TyPLXPRVk0itWLkkgRk3KV2U",
      "include_colab_link": true
    },
    "kernelspec": {
      "name": "python3",
      "display_name": "Python 3"
    },
    "language_info": {
      "name": "python"
    }
  },
  "cells": [
    {
      "cell_type": "markdown",
      "metadata": {
        "id": "view-in-github",
        "colab_type": "text"
      },
      "source": [
        "<a href=\"https://colab.research.google.com/github/tamayzengin/Machine-learning-algorhythms/blob/main/notebooks/regularization_methods_ipynb_adl%C4%B1_dosyan%C4%B1n_kopyas%C4%B1.ipynb\" target=\"_parent\"><img src=\"https://colab.research.google.com/assets/colab-badge.svg\" alt=\"Open In Colab\"/></a>"
      ]
    },
    {
      "cell_type": "markdown",
      "source": [
        "#**Libraries**"
      ],
      "metadata": {
        "id": "No9IlEsTbaoL"
      }
    },
    {
      "cell_type": "code",
      "execution_count": null,
      "metadata": {
        "id": "NHBZ4YBj2ekc"
      },
      "outputs": [],
      "source": [
        "import numpy as np\n",
        "import pandas as pd \n",
        "import sklearn as sk\n",
        "import matplotlib.pyplot as plt\n",
        "import seaborn as sns"
      ]
    },
    {
      "cell_type": "markdown",
      "source": [
        "# **L2 Regularization**"
      ],
      "metadata": {
        "id": "Y3lI4Q7K3_Kq"
      }
    },
    {
      "cell_type": "code",
      "source": [
        "cd /content/drive/MyDrive/Colab Notebooks/DATA"
      ],
      "metadata": {
        "colab": {
          "base_uri": "https://localhost:8080/"
        },
        "id": "KULuhK3G2T5N",
        "outputId": "393d674b-cec5-47b3-d980-fcea67111bb6"
      },
      "execution_count": null,
      "outputs": [
        {
          "output_type": "stream",
          "name": "stdout",
          "text": [
            "/content/drive/MyDrive/Colab Notebooks/DATA\n"
          ]
        }
      ]
    },
    {
      "cell_type": "code",
      "source": [
        "df = pd.read_csv('Advertising.csv')"
      ],
      "metadata": {
        "id": "TPyKAkeW4Tb_"
      },
      "execution_count": null,
      "outputs": []
    },
    {
      "cell_type": "code",
      "source": [
        "X = df.drop(['sales'],axis=1)"
      ],
      "metadata": {
        "id": "eZWB_PFl4THP"
      },
      "execution_count": null,
      "outputs": []
    },
    {
      "cell_type": "code",
      "source": [
        "y = df['sales']"
      ],
      "metadata": {
        "id": "McVHOAh_3RTf"
      },
      "execution_count": null,
      "outputs": []
    },
    {
      "cell_type": "code",
      "source": [
        "from sklearn.preprocessing import  PolynomialFeatures"
      ],
      "metadata": {
        "id": "Kwd6n8J1242Y"
      },
      "execution_count": null,
      "outputs": []
    },
    {
      "cell_type": "code",
      "source": [
        "polinomial_converter = PolynomialFeatures(degree=3, include_bias=False)"
      ],
      "metadata": {
        "id": "8HL4zvMp3P3C"
      },
      "execution_count": null,
      "outputs": []
    },
    {
      "cell_type": "code",
      "source": [
        "poly_features= polinomial_converter.fit_transform(X)"
      ],
      "metadata": {
        "id": "GT5SQmIi6cmk"
      },
      "execution_count": null,
      "outputs": []
    },
    {
      "cell_type": "code",
      "source": [
        "X.shape"
      ],
      "metadata": {
        "colab": {
          "base_uri": "https://localhost:8080/"
        },
        "id": "Ejbbm7S35WGu",
        "outputId": "94e0e5c5-6301-46b7-841a-264f1f02bcd9"
      },
      "execution_count": null,
      "outputs": [
        {
          "output_type": "execute_result",
          "data": {
            "text/plain": [
              "(200, 3)"
            ]
          },
          "metadata": {},
          "execution_count": 14
        }
      ]
    },
    {
      "cell_type": "code",
      "source": [
        "poly_features.shape"
      ],
      "metadata": {
        "id": "HEeMkgZ85a8Z",
        "colab": {
          "base_uri": "https://localhost:8080/"
        },
        "outputId": "6c4df1ae-b964-47b2-f179-fa26df979a86"
      },
      "execution_count": null,
      "outputs": [
        {
          "output_type": "execute_result",
          "data": {
            "text/plain": [
              "(200, 19)"
            ]
          },
          "metadata": {},
          "execution_count": 15
        }
      ]
    },
    {
      "cell_type": "code",
      "source": [
        "from sklearn.model_selection import train_test_split"
      ],
      "metadata": {
        "id": "TnRJkAGV5a5L"
      },
      "execution_count": null,
      "outputs": []
    },
    {
      "cell_type": "code",
      "source": [
        "X_train, X_test, y_train, y_test = train_test_split(poly_features, y, test_size=0.3, random_state=101)"
      ],
      "metadata": {
        "id": "UfyQk6Ol5a1c"
      },
      "execution_count": null,
      "outputs": []
    },
    {
      "cell_type": "code",
      "source": [
        "from sklearn.preprocessing import StandardScaler"
      ],
      "metadata": {
        "id": "ySJVOdLZ5apA"
      },
      "execution_count": null,
      "outputs": []
    },
    {
      "cell_type": "code",
      "source": [
        "scaler = StandardScaler()"
      ],
      "metadata": {
        "id": "hz7N4eXr-iYh"
      },
      "execution_count": null,
      "outputs": []
    },
    {
      "cell_type": "code",
      "source": [
        "scaler.fit(X_train)"
      ],
      "metadata": {
        "colab": {
          "base_uri": "https://localhost:8080/"
        },
        "id": "l0G1sild_CWR",
        "outputId": "6854d589-63d0-4aa3-dba9-c94406a8b599"
      },
      "execution_count": null,
      "outputs": [
        {
          "output_type": "execute_result",
          "data": {
            "text/plain": [
              "StandardScaler()"
            ]
          },
          "metadata": {},
          "execution_count": 20
        }
      ]
    },
    {
      "cell_type": "code",
      "source": [
        "X_train = scaler.transform(X_train)"
      ],
      "metadata": {
        "id": "SupkpkCB_wcM"
      },
      "execution_count": null,
      "outputs": []
    },
    {
      "cell_type": "code",
      "source": [
        "X_test = scaler.transform(X_test)"
      ],
      "metadata": {
        "id": "yIW8QgJv_-lN"
      },
      "execution_count": null,
      "outputs": []
    },
    {
      "cell_type": "code",
      "source": [
        "X_train[0] #poly_featurs'a göre Sayılar azaldı"
      ],
      "metadata": {
        "colab": {
          "base_uri": "https://localhost:8080/"
        },
        "id": "YPGy-RRZABkM",
        "outputId": "31704928-9a6f-4dd6-c475-1760560fbf62"
      },
      "execution_count": null,
      "outputs": [
        {
          "output_type": "execute_result",
          "data": {
            "text/plain": [
              "array([ 0.49300171, -0.33994238,  1.61586707,  0.28407363, -0.02568776,\n",
              "        1.49677566, -0.59023161,  0.41659155,  1.6137853 ,  0.08057172,\n",
              "       -0.05392229,  1.01524393, -0.36986163,  0.52457967,  1.48737034,\n",
              "       -0.66096022, -0.16360242,  0.54694754,  1.37075536])"
            ]
          },
          "metadata": {},
          "execution_count": 23
        }
      ]
    },
    {
      "cell_type": "code",
      "source": [
        "poly_features[0]"
      ],
      "metadata": {
        "colab": {
          "base_uri": "https://localhost:8080/"
        },
        "id": "8FKHndwkAFp8",
        "outputId": "8a281288-9b6b-479e-9aa9-905f55b33247"
      },
      "execution_count": null,
      "outputs": [
        {
          "output_type": "execute_result",
          "data": {
            "text/plain": [
              "array([2.30100000e+02, 3.78000000e+01, 6.92000000e+01, 5.29460100e+04,\n",
              "       8.69778000e+03, 1.59229200e+04, 1.42884000e+03, 2.61576000e+03,\n",
              "       4.78864000e+03, 1.21828769e+07, 2.00135918e+06, 3.66386389e+06,\n",
              "       3.28776084e+05, 6.01886376e+05, 1.10186606e+06, 5.40101520e+04,\n",
              "       9.88757280e+04, 1.81010592e+05, 3.31373888e+05])"
            ]
          },
          "metadata": {},
          "execution_count": 24
        }
      ]
    },
    {
      "cell_type": "markdown",
      "source": [
        "#**Ridge Regression**\n"
      ],
      "metadata": {
        "id": "XIw9cVXUClSJ"
      }
    },
    {
      "cell_type": "code",
      "source": [
        "# ERROR = RSS + Penalty term, we're trying to minimize this error penalty (sum all B^2)*lambda"
      ],
      "metadata": {
        "id": "QmlgZWZtAIVV"
      },
      "execution_count": null,
      "outputs": []
    },
    {
      "cell_type": "code",
      "source": [
        "from sklearn.linear_model import Ridge"
      ],
      "metadata": {
        "id": "v2K8cSJUCCKA"
      },
      "execution_count": null,
      "outputs": []
    },
    {
      "cell_type": "code",
      "source": [
        "ridge_model = Ridge(alpha=10)"
      ],
      "metadata": {
        "id": "3_d72Qnj5PQB"
      },
      "execution_count": null,
      "outputs": []
    },
    {
      "cell_type": "code",
      "source": [
        "ridge_model.fit(X_train,y_train)"
      ],
      "metadata": {
        "colab": {
          "base_uri": "https://localhost:8080/"
        },
        "id": "qN5t5yZS5UOq",
        "outputId": "a4d72ba4-94c3-422b-96b7-da8e9833e339"
      },
      "execution_count": null,
      "outputs": [
        {
          "output_type": "execute_result",
          "data": {
            "text/plain": [
              "Ridge(alpha=10)"
            ]
          },
          "metadata": {},
          "execution_count": 28
        }
      ]
    },
    {
      "cell_type": "code",
      "source": [
        "test_predictions = ridge_model.predict(X_test)"
      ],
      "metadata": {
        "id": "7O6Pm-EU5zLz"
      },
      "execution_count": null,
      "outputs": []
    },
    {
      "cell_type": "code",
      "source": [
        "test_predictions"
      ],
      "metadata": {
        "colab": {
          "base_uri": "https://localhost:8080/"
        },
        "id": "V2vDzqEe5_YV",
        "outputId": "651aaadd-479e-4690-9a13-d2cb73dab627"
      },
      "execution_count": null,
      "outputs": [
        {
          "output_type": "execute_result",
          "data": {
            "text/plain": [
              "array([13.7469803 , 19.17764   , 11.8623393 , 16.25574551,  8.92891155,\n",
              "        8.04595366, 20.13320851, 16.94847676, 10.29219174, 19.78365691,\n",
              "       10.31758361, 13.44077317, 12.24228062, 23.23864236, 19.12656362,\n",
              "        9.748809  , 12.84361521,  9.14248129,  8.82504966, 21.46989971,\n",
              "        8.25222201, 18.8110776 , 28.39227333, 25.06911066,  9.11912241,\n",
              "       11.8071711 , 20.85199462,  9.31962495, 12.25122303,  9.07811198,\n",
              "        9.25275556, 19.87154568, 10.55955497,  7.86818084, 17.67220132,\n",
              "        9.31442423, 10.1539168 ,  9.47802944,  8.63337302, 10.76209179,\n",
              "       11.63848891, 10.38883411, 10.90270005,  8.40019284, 11.35336224,\n",
              "       10.3514086 ,  8.00082147, 15.27139854, 12.94761469, 22.49762978,\n",
              "       10.80165407, 13.01337743, 14.82204895, 11.37354043, 11.69628953,\n",
              "        7.20576885, 25.53512232, 10.41926545, 17.38798022, 15.10158819])"
            ]
          },
          "metadata": {},
          "execution_count": 30
        }
      ]
    },
    {
      "cell_type": "code",
      "source": [
        "from sklearn.metrics import mean_absolute_error, mean_squared_error"
      ],
      "metadata": {
        "id": "RqvnFHjk6BgG"
      },
      "execution_count": null,
      "outputs": []
    },
    {
      "cell_type": "code",
      "source": [
        "MAE = mean_absolute_error(y_test,test_predictions)"
      ],
      "metadata": {
        "id": "adj74BTm6U1f"
      },
      "execution_count": null,
      "outputs": []
    },
    {
      "cell_type": "code",
      "source": [
        "MAE"
      ],
      "metadata": {
        "colab": {
          "base_uri": "https://localhost:8080/"
        },
        "id": "UaH0G6JS6dCR",
        "outputId": "825ba30a-bfbf-4e78-9fd4-f24cf22d438b"
      },
      "execution_count": null,
      "outputs": [
        {
          "output_type": "execute_result",
          "data": {
            "text/plain": [
              "0.5774404204714162"
            ]
          },
          "metadata": {},
          "execution_count": 33
        }
      ]
    },
    {
      "cell_type": "code",
      "source": [
        "RMSE = np.sqrt(mean_squared_error(y_test,test_predictions))"
      ],
      "metadata": {
        "id": "3IM_dm4w6fZ4"
      },
      "execution_count": null,
      "outputs": []
    },
    {
      "cell_type": "code",
      "source": [
        "from sklearn.linear_model import RidgeCV"
      ],
      "metadata": {
        "id": "lyNTrdI07Jnd"
      },
      "execution_count": null,
      "outputs": []
    },
    {
      "cell_type": "code",
      "source": [
        "ridge_cv_model = RidgeCV(alphas=(0.1,1.0,10.0),scoring='neg_mean_absolute_error')"
      ],
      "metadata": {
        "id": "HP8jkHNn7MU6"
      },
      "execution_count": null,
      "outputs": []
    },
    {
      "cell_type": "code",
      "source": [
        "ridge_cv_model.fit(X_train,y_train)"
      ],
      "metadata": {
        "colab": {
          "base_uri": "https://localhost:8080/"
        },
        "id": "pgWdB5U2-isv",
        "outputId": "4ec0f41b-d6c5-40e7-df33-468b807bc87e"
      },
      "execution_count": null,
      "outputs": [
        {
          "output_type": "execute_result",
          "data": {
            "text/plain": [
              "RidgeCV(alphas=array([ 0.1,  1. , 10. ]), scoring='neg_mean_absolute_error')"
            ]
          },
          "metadata": {},
          "execution_count": 37
        }
      ]
    },
    {
      "cell_type": "code",
      "source": [
        "ridge_cv_model.alpha_"
      ],
      "metadata": {
        "colab": {
          "base_uri": "https://localhost:8080/"
        },
        "id": "6-z9R_vS-zpS",
        "outputId": "ab230687-3f4f-47a0-e694-c073a5aa476e"
      },
      "execution_count": null,
      "outputs": [
        {
          "output_type": "execute_result",
          "data": {
            "text/plain": [
              "0.1"
            ]
          },
          "metadata": {},
          "execution_count": 38
        }
      ]
    },
    {
      "cell_type": "code",
      "source": [
        "#from sklearn.metrics import SCORERS"
      ],
      "metadata": {
        "id": "Tdgp4mCq-5fm"
      },
      "execution_count": null,
      "outputs": []
    },
    {
      "cell_type": "code",
      "source": [
        "#SCORERS.keys()"
      ],
      "metadata": {
        "id": "GqvnbrDX_PDy"
      },
      "execution_count": null,
      "outputs": []
    },
    {
      "cell_type": "code",
      "source": [
        "test_predictions = ridge_cv_model.predict(X_test)"
      ],
      "metadata": {
        "id": "HnLod3nS_Rro"
      },
      "execution_count": null,
      "outputs": []
    },
    {
      "cell_type": "code",
      "source": [
        "MAE = mean_absolute_error(y_test,test_predictions)"
      ],
      "metadata": {
        "id": "B9NQ_EEFBFtG"
      },
      "execution_count": null,
      "outputs": []
    },
    {
      "cell_type": "code",
      "source": [
        "RMSE = np.sqrt(mean_squared_error(y_test,test_predictions))"
      ],
      "metadata": {
        "id": "JBJ4afgIBgtA"
      },
      "execution_count": null,
      "outputs": []
    },
    {
      "cell_type": "code",
      "source": [
        "MAE "
      ],
      "metadata": {
        "colab": {
          "base_uri": "https://localhost:8080/"
        },
        "id": "76m9Ge3RBq_U",
        "outputId": "73b2c6e6-f2d7-4630-81ac-8eb50b1ff4d5"
      },
      "execution_count": null,
      "outputs": [
        {
          "output_type": "execute_result",
          "data": {
            "text/plain": [
              "0.4273774884345441"
            ]
          },
          "metadata": {},
          "execution_count": 44
        }
      ]
    },
    {
      "cell_type": "code",
      "source": [
        "RMSE"
      ],
      "metadata": {
        "colab": {
          "base_uri": "https://localhost:8080/"
        },
        "id": "5PHiERJZBsxo",
        "outputId": "d3f6dd51-3c2b-4e2f-d880-50882c78445c"
      },
      "execution_count": null,
      "outputs": [
        {
          "output_type": "execute_result",
          "data": {
            "text/plain": [
              "0.6180719926946004"
            ]
          },
          "metadata": {},
          "execution_count": 45
        }
      ]
    },
    {
      "cell_type": "code",
      "source": [
        ""
      ],
      "metadata": {
        "id": "ktCJLnKBBtN2"
      },
      "execution_count": null,
      "outputs": []
    },
    {
      "cell_type": "code",
      "source": [
        "ridge_cv_model.best_score_"
      ],
      "metadata": {
        "colab": {
          "base_uri": "https://localhost:8080/"
        },
        "id": "1Uh6p61_B-Hk",
        "outputId": "44ed98d7-faa8-48f8-c376-61a3f2d6002b"
      },
      "execution_count": null,
      "outputs": [
        {
          "output_type": "execute_result",
          "data": {
            "text/plain": [
              "-0.3749223340292962"
            ]
          },
          "metadata": {},
          "execution_count": 46
        }
      ]
    },
    {
      "cell_type": "markdown",
      "source": [
        "#**L1 regularization**\n",
        "Lasso Regression\n",
        "\n"
      ],
      "metadata": {
        "id": "X6KKhVUxC8ll"
      }
    },
    {
      "cell_type": "code",
      "source": [
        "from sklearn.linear_model import LassoCV"
      ],
      "metadata": {
        "id": "wK5fQhXXC_Pq"
      },
      "execution_count": null,
      "outputs": []
    },
    {
      "cell_type": "code",
      "source": [
        "lasso_cv_model = LassoCV(eps=0.001,n_alphas=100,cv=5,max_iter=1000000) #eps değeri küçük(0.001) olursa taranan alan küçülür. Bu yüzden COnvergenceWarning uyarısı verilir. Taranmayan veriler old. anlamına gelir. eps=0.1 olmalı."
      ],
      "metadata": {
        "id": "gsbb_EKc_hBD"
      },
      "execution_count": null,
      "outputs": []
    },
    {
      "cell_type": "code",
      "source": [
        "lasso_cv_model.fit(X_train,y_train) "
      ],
      "metadata": {
        "colab": {
          "base_uri": "https://localhost:8080/"
        },
        "id": "BhCIWB62Bwi8",
        "outputId": "e6dc39d5-dbe2-41c8-c0ee-ea91b9c90723"
      },
      "execution_count": null,
      "outputs": [
        {
          "output_type": "execute_result",
          "data": {
            "text/plain": [
              "LassoCV(cv=5, max_iter=1000000)"
            ]
          },
          "metadata": {},
          "execution_count": 49
        }
      ]
    },
    {
      "cell_type": "code",
      "source": [
        "lasso_cv_model.alpha_"
      ],
      "metadata": {
        "colab": {
          "base_uri": "https://localhost:8080/"
        },
        "id": "7vTMxjjWBzwt",
        "outputId": "4ff3fbf5-6aea-4869-f313-1b9655d79617"
      },
      "execution_count": null,
      "outputs": [
        {
          "output_type": "execute_result",
          "data": {
            "text/plain": [
              "0.004943070909225833"
            ]
          },
          "metadata": {},
          "execution_count": 50
        }
      ]
    },
    {
      "cell_type": "code",
      "source": [
        "test_predictions = lasso_cv_model.predict(X_test)"
      ],
      "metadata": {
        "id": "x3aYRV2rCybM"
      },
      "execution_count": null,
      "outputs": []
    },
    {
      "cell_type": "code",
      "source": [
        "MAE = mean_absolute_error(y_test,test_predictions)"
      ],
      "metadata": {
        "id": "fqZMQY8HDCuS"
      },
      "execution_count": null,
      "outputs": []
    },
    {
      "cell_type": "code",
      "source": [
        "RMSE = np.sqrt(mean_squared_error(y_test,test_predictions))"
      ],
      "metadata": {
        "id": "sjxnc_orDEol"
      },
      "execution_count": null,
      "outputs": []
    },
    {
      "cell_type": "code",
      "source": [
        "MAE"
      ],
      "metadata": {
        "colab": {
          "base_uri": "https://localhost:8080/"
        },
        "id": "RUZe9lA6DGe6",
        "outputId": "d58e3de6-50a9-427e-c179-d2bb032425d9"
      },
      "execution_count": null,
      "outputs": [
        {
          "output_type": "execute_result",
          "data": {
            "text/plain": [
              "0.4335034618590078"
            ]
          },
          "metadata": {},
          "execution_count": 54
        }
      ]
    },
    {
      "cell_type": "code",
      "source": [
        "RMSE"
      ],
      "metadata": {
        "colab": {
          "base_uri": "https://localhost:8080/"
        },
        "id": "6O_vgRznDHFw",
        "outputId": "ae65ad80-9bff-4c7c-bd00-110dfb52a6ed"
      },
      "execution_count": null,
      "outputs": [
        {
          "output_type": "execute_result",
          "data": {
            "text/plain": [
              "0.6063140748984043"
            ]
          },
          "metadata": {},
          "execution_count": 55
        }
      ]
    },
    {
      "cell_type": "code",
      "source": [
        "lasso_cv_model.coef_"
      ],
      "metadata": {
        "colab": {
          "base_uri": "https://localhost:8080/"
        },
        "id": "a7Bk7DYQDIKP",
        "outputId": "fec577fd-b2e1-4df6-828f-661a98057486"
      },
      "execution_count": null,
      "outputs": [
        {
          "output_type": "execute_result",
          "data": {
            "text/plain": [
              "array([ 4.86023329,  0.12544598,  0.20746872, -4.99250395,  4.38026519,\n",
              "       -0.22977201, -0.        ,  0.07267717, -0.        ,  1.77780246,\n",
              "       -0.69614918, -0.        ,  0.12044132, -0.        , -0.        ,\n",
              "       -0.        ,  0.        ,  0.        , -0.        ])"
            ]
          },
          "metadata": {},
          "execution_count": 56
        }
      ]
    },
    {
      "cell_type": "markdown",
      "source": [
        "**Lasso ile ilgili not: Bütün polynomial set yerine, setin bir kısımını inceler. Bu sette TV ve radyo gibi. Daha kötü bir sonuç verir fakat çok daha az veri tarar **"
      ],
      "metadata": {
        "id": "D4SZhFetD5VN"
      }
    },
    {
      "cell_type": "markdown",
      "source": [
        "#**L1 And L2 Regularization - Elastic Net** "
      ],
      "metadata": {
        "id": "7-A-ssHSNpfM"
      }
    },
    {
      "cell_type": "markdown",
      "source": [
        "Elastic Net regression, l1_ratio ve l2_ratiolar ile hem lasso hem de Ridge regressionları kendi içinde barındırır."
      ],
      "metadata": {
        "id": "FAkQzFUgduWP"
      }
    },
    {
      "cell_type": "code",
      "source": [
        "from sklearn.linear_model import ElasticNetCV"
      ],
      "metadata": {
        "id": "1TGugU6_Vgy9"
      },
      "execution_count": null,
      "outputs": []
    },
    {
      "cell_type": "code",
      "source": [
        "elastic_model = ElasticNetCV(l1_ratio=[.1,.5,.7,.9,.95,.99,1],eps=0.001,n_alphas=100,max_iter=1000000)"
      ],
      "metadata": {
        "id": "re6cddlnbj34"
      },
      "execution_count": null,
      "outputs": []
    },
    {
      "cell_type": "code",
      "source": [
        "elastic_model.fit(X_train,y_train)"
      ],
      "metadata": {
        "colab": {
          "base_uri": "https://localhost:8080/"
        },
        "id": "42x7XCPFcCTq",
        "outputId": "fc3d8bea-a1f9-475b-ba0e-92071b96f892"
      },
      "execution_count": null,
      "outputs": [
        {
          "output_type": "execute_result",
          "data": {
            "text/plain": [
              "ElasticNetCV(l1_ratio=[0.1, 0.5, 0.7, 0.9, 0.95, 0.99, 1], max_iter=1000000)"
            ]
          },
          "metadata": {},
          "execution_count": 59
        }
      ]
    },
    {
      "cell_type": "code",
      "source": [
        "elastic_model.l1_ratio"
      ],
      "metadata": {
        "colab": {
          "base_uri": "https://localhost:8080/"
        },
        "id": "VxU7tzgYcsKt",
        "outputId": "1bda92bc-0819-423a-dbbf-75381acd6c44"
      },
      "execution_count": null,
      "outputs": [
        {
          "output_type": "execute_result",
          "data": {
            "text/plain": [
              "[0.1, 0.5, 0.7, 0.9, 0.95, 0.99, 1]"
            ]
          },
          "metadata": {},
          "execution_count": 60
        }
      ]
    },
    {
      "cell_type": "code",
      "source": [
        "elastic_model.l1_ratio_ #En iyi değeri döndürür"
      ],
      "metadata": {
        "colab": {
          "base_uri": "https://localhost:8080/"
        },
        "id": "FEvTYNpMc1fA",
        "outputId": "5b2d7384-8d17-4cf4-a568-fbdea4fe2cde"
      },
      "execution_count": null,
      "outputs": [
        {
          "output_type": "execute_result",
          "data": {
            "text/plain": [
              "1.0"
            ]
          },
          "metadata": {},
          "execution_count": 61
        }
      ]
    },
    {
      "cell_type": "code",
      "source": [
        "elastic_model.alpha_ # Lasso ile aynı"
      ],
      "metadata": {
        "colab": {
          "base_uri": "https://localhost:8080/"
        },
        "id": "FikOpuN3c3c3",
        "outputId": "a402ae13-94e8-4ef9-d029-37579b6f723a"
      },
      "execution_count": null,
      "outputs": [
        {
          "output_type": "execute_result",
          "data": {
            "text/plain": [
              "0.004943070909225833"
            ]
          },
          "metadata": {},
          "execution_count": 62
        }
      ]
    },
    {
      "cell_type": "code",
      "source": [
        "lasso_cv_model.alpha_"
      ],
      "metadata": {
        "colab": {
          "base_uri": "https://localhost:8080/"
        },
        "id": "RVILmmeydPdx",
        "outputId": "18433b87-510c-4ee7-94a2-da6fb9687f03"
      },
      "execution_count": null,
      "outputs": [
        {
          "output_type": "execute_result",
          "data": {
            "text/plain": [
              "0.004943070909225833"
            ]
          },
          "metadata": {},
          "execution_count": 63
        }
      ]
    },
    {
      "cell_type": "code",
      "source": [
        "test_predictions = elastic_model.predict(X_test)"
      ],
      "metadata": {
        "id": "J7o8txJndUM5"
      },
      "execution_count": null,
      "outputs": []
    },
    {
      "cell_type": "code",
      "source": [
        "MAE = mean_absolute_error(y_test,test_predictions)"
      ],
      "metadata": {
        "id": "MkvujDcVdbVi"
      },
      "execution_count": null,
      "outputs": []
    },
    {
      "cell_type": "code",
      "source": [
        "MAE # Lasso ile aynı"
      ],
      "metadata": {
        "colab": {
          "base_uri": "https://localhost:8080/"
        },
        "id": "YwaK9jAAdcIp",
        "outputId": "236cd62c-2d73-48ea-c120-99d5223d307e"
      },
      "execution_count": null,
      "outputs": [
        {
          "output_type": "execute_result",
          "data": {
            "text/plain": [
              "0.4335034618590078"
            ]
          },
          "metadata": {},
          "execution_count": 66
        }
      ]
    },
    {
      "cell_type": "markdown",
      "source": [
        "#**Train test split Review**"
      ],
      "metadata": {
        "id": "bPHzSX7o18WN"
      }
    },
    {
      "cell_type": "code",
      "source": [
        "X = df.drop('sales',axis=1)"
      ],
      "metadata": {
        "id": "tlHYUdzQdkTp"
      },
      "execution_count": null,
      "outputs": []
    },
    {
      "cell_type": "code",
      "source": [
        "y = df['sales']"
      ],
      "metadata": {
        "id": "FdpsD5sl2SPH"
      },
      "execution_count": null,
      "outputs": []
    },
    {
      "cell_type": "code",
      "source": [
        "from sklearn.model_selection import train_test_split"
      ],
      "metadata": {
        "id": "hiFsOgv12T6J"
      },
      "execution_count": null,
      "outputs": []
    },
    {
      "cell_type": "code",
      "source": [
        "X_train, X_test, y_train, y_test = train_test_split(X, y, test_size=0.3, random_state=101)"
      ],
      "metadata": {
        "id": "3Mp5ESk62Ybn"
      },
      "execution_count": null,
      "outputs": []
    },
    {
      "cell_type": "code",
      "source": [
        "from sklearn.preprocessing import StandardScaler"
      ],
      "metadata": {
        "id": "Z9WA3bGf2j4J"
      },
      "execution_count": null,
      "outputs": []
    },
    {
      "cell_type": "code",
      "source": [
        "scaler =  StandardScaler() "
      ],
      "metadata": {
        "id": "V2hCjp-p3Zlg"
      },
      "execution_count": null,
      "outputs": []
    },
    {
      "cell_type": "code",
      "source": [
        "scaler.fit(X_train)"
      ],
      "metadata": {
        "colab": {
          "base_uri": "https://localhost:8080/"
        },
        "id": "Qsc2m6W13hrO",
        "outputId": "7fcd0935-0b08-4cfc-dd44-f6b8180aa61d"
      },
      "execution_count": null,
      "outputs": [
        {
          "output_type": "execute_result",
          "data": {
            "text/plain": [
              "StandardScaler()"
            ]
          },
          "metadata": {},
          "execution_count": 82
        }
      ]
    },
    {
      "cell_type": "code",
      "source": [
        ""
      ],
      "metadata": {
        "id": "5vObr-1L3jrR"
      },
      "execution_count": null,
      "outputs": []
    },
    {
      "cell_type": "code",
      "source": [
        "X_train = scaler.transform(X_train)"
      ],
      "metadata": {
        "id": "K4s6dlCg4FNt"
      },
      "execution_count": null,
      "outputs": []
    },
    {
      "cell_type": "code",
      "source": [
        "X_test = scaler.transform(X_test)"
      ],
      "metadata": {
        "id": "XqOvyHXh4WqX"
      },
      "execution_count": null,
      "outputs": []
    },
    {
      "cell_type": "code",
      "source": [
        "from sklearn.linear_model import Ridge"
      ],
      "metadata": {
        "id": "eEC388Cq4aGZ"
      },
      "execution_count": null,
      "outputs": []
    },
    {
      "cell_type": "code",
      "source": [
        "model = Ridge(alpha=100)"
      ],
      "metadata": {
        "id": "50xC829M4eOb"
      },
      "execution_count": null,
      "outputs": []
    },
    {
      "cell_type": "code",
      "source": [
        "model.fit(X_train,y_train)"
      ],
      "metadata": {
        "colab": {
          "base_uri": "https://localhost:8080/"
        },
        "id": "Ugi2DkwZ4iP9",
        "outputId": "f425a091-64ed-433b-971e-bc4ea7e5c245"
      },
      "execution_count": null,
      "outputs": [
        {
          "output_type": "execute_result",
          "data": {
            "text/plain": [
              "Ridge(alpha=100)"
            ]
          },
          "metadata": {},
          "execution_count": 92
        }
      ]
    },
    {
      "cell_type": "code",
      "source": [
        "y_pred = model.predict(X_test)"
      ],
      "metadata": {
        "id": "60BuKmnw5Nsd"
      },
      "execution_count": null,
      "outputs": []
    },
    {
      "cell_type": "code",
      "source": [
        "from sklearn.metrics import mean_squared_error"
      ],
      "metadata": {
        "id": "9i60k7W25Qmg"
      },
      "execution_count": null,
      "outputs": []
    },
    {
      "cell_type": "code",
      "source": [
        "mean_squared_error(y_test,y_pred)"
      ],
      "metadata": {
        "colab": {
          "base_uri": "https://localhost:8080/"
        },
        "id": "e5wgZYJG5TJS",
        "outputId": "976a849c-105e-42a6-ceee-f641f16541a3"
      },
      "execution_count": null,
      "outputs": [
        {
          "output_type": "execute_result",
          "data": {
            "text/plain": [
              "7.34177578903413"
            ]
          },
          "metadata": {},
          "execution_count": 95
        }
      ]
    },
    {
      "cell_type": "code",
      "source": [
        "model_two = Ridge(alpha=1)\n",
        "model_two.fit(X_train,y_train)\n",
        "y_pred_two = model_two.predict(X_test)"
      ],
      "metadata": {
        "id": "zw7Yd4u95cbD"
      },
      "execution_count": null,
      "outputs": []
    },
    {
      "cell_type": "code",
      "source": [
        "mean_squared_error(y_test,y_pred_two)"
      ],
      "metadata": {
        "colab": {
          "base_uri": "https://localhost:8080/"
        },
        "id": "qwMLAlqR57so",
        "outputId": "57830768-6da7-429f-8669-a192a3ad64df"
      },
      "execution_count": null,
      "outputs": [
        {
          "output_type": "execute_result",
          "data": {
            "text/plain": [
              "2.319021579428752"
            ]
          },
          "metadata": {},
          "execution_count": 98
        }
      ]
    },
    {
      "cell_type": "markdown",
      "source": [
        "Simple Train Test Split\n",
        "Advantages:\n",
        "1.  easy to understand and it's easy to compute \n",
        "*   Disadvantages:\n",
        "1.  To find Optimal hyperparameter it's tedious\n",
        "2.  Major issue is; when trying to find optimal hyperparameter, you try models,(one,two etc.) thus model do see the datas beforeward \n"
      ],
      "metadata": {
        "id": "esKr9G1n6OVb"
      }
    },
    {
      "cell_type": "code",
      "source": [
        ""
      ],
      "metadata": {
        "id": "07YKZVs-6Gy5"
      },
      "execution_count": null,
      "outputs": []
    }
  ]
}