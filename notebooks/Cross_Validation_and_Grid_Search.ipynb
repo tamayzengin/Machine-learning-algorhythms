{
  "nbformat": 4,
  "nbformat_minor": 0,
  "metadata": {
    "colab": {
      "name": "Cross Validation and Grid Search.ipynb",
      "provenance": [],
      "collapsed_sections": [
        "ZpskgXwGn42h",
        "Z9TG76HaeD6_",
        "s8N1auGcklkw"
      ],
      "authorship_tag": "ABX9TyP59BHShA+Q0+dUAbvltxjb",
      "include_colab_link": true
    },
    "kernelspec": {
      "name": "python3",
      "display_name": "Python 3"
    },
    "language_info": {
      "name": "python"
    }
  },
  "cells": [
    {
      "cell_type": "markdown",
      "metadata": {
        "id": "view-in-github",
        "colab_type": "text"
      },
      "source": [
        "<a href=\"https://colab.research.google.com/github/tamayzengin/Machine-learning-algorhythms/blob/main/notebooks/Cross_Validation_and_Grid_Search.ipynb\" target=\"_parent\"><img src=\"https://colab.research.google.com/assets/colab-badge.svg\" alt=\"Open In Colab\"/></a>"
      ]
    },
    {
      "cell_type": "code",
      "execution_count": null,
      "metadata": {
        "colab": {
          "base_uri": "https://localhost:8080/"
        },
        "id": "H46ZVmuwNKKw",
        "outputId": "edaa2d00-41ee-4ab9-e6d0-498d3828a159"
      },
      "outputs": [
        {
          "output_type": "stream",
          "name": "stdout",
          "text": [
            "Mounted at /content/drive\n"
          ]
        }
      ],
      "source": [
        "from google.colab import drive\n",
        "drive.mount('/content/drive')"
      ]
    },
    {
      "cell_type": "code",
      "source": [
        "import pandas as pd\n",
        "import seaborn as sns\n",
        "import numpy as np\n",
        "import matplotlib.pyplot as plt"
      ],
      "metadata": {
        "id": "YZcMfOogNQlz"
      },
      "execution_count": null,
      "outputs": []
    },
    {
      "cell_type": "code",
      "source": [
        "cd /content/drive/MyDrive/Colab Notebooks/DATA"
      ],
      "metadata": {
        "colab": {
          "base_uri": "https://localhost:8080/"
        },
        "id": "oSzHaN4HNSFD",
        "outputId": "44285715-52b6-4a15-e2a9-6c13fcd16f23"
      },
      "execution_count": null,
      "outputs": [
        {
          "output_type": "stream",
          "name": "stdout",
          "text": [
            "/content/drive/MyDrive/Colab Notebooks/DATA\n"
          ]
        }
      ]
    },
    {
      "cell_type": "markdown",
      "source": [
        "Split data into: Train(70), validation(20) and test(10);\n",
        "Fit model on train, evaluate model performance on validation, and adjust hyperparameters. At last final test data, cannot adjust. "
      ],
      "metadata": {
        "id": "s1z02EBUZPDR"
      }
    },
    {
      "cell_type": "code",
      "source": [
        "df = pd.read_csv(\"Advertising.csv\")"
      ],
      "metadata": {
        "id": "AQze-d10NTdQ"
      },
      "execution_count": null,
      "outputs": []
    },
    {
      "cell_type": "code",
      "source": [
        "X = df.drop('sales',axis=1)"
      ],
      "metadata": {
        "id": "FdZN6aM6NZ0V"
      },
      "execution_count": null,
      "outputs": []
    },
    {
      "cell_type": "code",
      "source": [
        "y = df['sales']"
      ],
      "metadata": {
        "id": "KvFpampJaFtA"
      },
      "execution_count": null,
      "outputs": []
    },
    {
      "cell_type": "markdown",
      "source": [
        "#**Cross validation w/ variables**"
      ],
      "metadata": {
        "id": "ZpskgXwGn42h"
      }
    },
    {
      "cell_type": "code",
      "source": [
        "from sklearn.model_selection import train_test_split"
      ],
      "metadata": {
        "id": "062JhUxVaH4-"
      },
      "execution_count": null,
      "outputs": []
    },
    {
      "cell_type": "code",
      "source": [
        "X_train, X_other, y_train, y_other = train_test_split(X, y, test_size=0.3, random_state=101)"
      ],
      "metadata": {
        "id": "bHpGxvstaHz2"
      },
      "execution_count": null,
      "outputs": []
    },
    {
      "cell_type": "code",
      "source": [
        "#test size = 0.5 means 50% of 30% other data --> = 15% of all data\n",
        "X_eval, X_test,y_eval, y_test = train_test_split(X_other,y_other,test_size=0.5,random_state=101)"
      ],
      "metadata": {
        "id": "Cmrb-CEyaHtN"
      },
      "execution_count": null,
      "outputs": []
    },
    {
      "cell_type": "code",
      "source": [
        "len(df)"
      ],
      "metadata": {
        "id": "cCikR-_swbbf",
        "colab": {
          "base_uri": "https://localhost:8080/"
        },
        "outputId": "c911fd8b-3f19-4130-fcba-919b1ecf5320"
      },
      "execution_count": null,
      "outputs": [
        {
          "output_type": "execute_result",
          "data": {
            "text/plain": [
              "200"
            ]
          },
          "metadata": {},
          "execution_count": 18
        }
      ]
    },
    {
      "cell_type": "code",
      "source": [
        "len(X_train)"
      ],
      "metadata": {
        "id": "Dy37Zhcd_pRH",
        "colab": {
          "base_uri": "https://localhost:8080/"
        },
        "outputId": "a631a153-b4c9-41c2-b1b1-7c3f0a1b1345"
      },
      "execution_count": null,
      "outputs": [
        {
          "output_type": "execute_result",
          "data": {
            "text/plain": [
              "140"
            ]
          },
          "metadata": {},
          "execution_count": 19
        }
      ]
    },
    {
      "cell_type": "code",
      "source": [
        "len(X_eval)"
      ],
      "metadata": {
        "colab": {
          "base_uri": "https://localhost:8080/"
        },
        "id": "p_BvecePbEUb",
        "outputId": "6761a354-c756-4f62-bf93-ac8074cb2812"
      },
      "execution_count": null,
      "outputs": [
        {
          "output_type": "execute_result",
          "data": {
            "text/plain": [
              "30"
            ]
          },
          "metadata": {},
          "execution_count": 20
        }
      ]
    },
    {
      "cell_type": "code",
      "source": [
        "len(X_test)"
      ],
      "metadata": {
        "colab": {
          "base_uri": "https://localhost:8080/"
        },
        "id": "pgdBV7j6bFge",
        "outputId": "6965e28b-625b-4d82-fd73-495721e0cbe5"
      },
      "execution_count": null,
      "outputs": [
        {
          "output_type": "execute_result",
          "data": {
            "text/plain": [
              "30"
            ]
          },
          "metadata": {},
          "execution_count": 21
        }
      ]
    },
    {
      "cell_type": "code",
      "source": [
        "from sklearn.preprocessing import StandardScaler"
      ],
      "metadata": {
        "id": "2NEUmSv4bG6v"
      },
      "execution_count": null,
      "outputs": []
    },
    {
      "cell_type": "code",
      "source": [
        "scaler = StandardScaler()"
      ],
      "metadata": {
        "id": "fYYbSPxzbOS0"
      },
      "execution_count": null,
      "outputs": []
    },
    {
      "cell_type": "code",
      "source": [
        "scaler.fit(X_train)"
      ],
      "metadata": {
        "colab": {
          "base_uri": "https://localhost:8080/"
        },
        "id": "YIBtN1G8bQbi",
        "outputId": "08a2eefa-68e1-425e-aabb-b3005f8a2b29"
      },
      "execution_count": null,
      "outputs": [
        {
          "output_type": "execute_result",
          "data": {
            "text/plain": [
              "StandardScaler()"
            ]
          },
          "metadata": {},
          "execution_count": 24
        }
      ]
    },
    {
      "cell_type": "code",
      "source": [
        "X_train = scaler.transform(X_train)"
      ],
      "metadata": {
        "id": "TeswUpW3bSPf"
      },
      "execution_count": null,
      "outputs": []
    },
    {
      "cell_type": "code",
      "source": [
        "X_test = scaler.transform(X_test)"
      ],
      "metadata": {
        "id": "HmYWvHyQbXkK"
      },
      "execution_count": null,
      "outputs": []
    },
    {
      "cell_type": "code",
      "source": [
        "X_eval = scaler.transform(X_eval)"
      ],
      "metadata": {
        "id": "drT8UgPfbahu"
      },
      "execution_count": null,
      "outputs": []
    },
    {
      "cell_type": "code",
      "source": [
        "from sklearn.linear_model import Ridge"
      ],
      "metadata": {
        "id": "-MqoGYNQbckT"
      },
      "execution_count": null,
      "outputs": []
    },
    {
      "cell_type": "code",
      "source": [
        "model_one = Ridge(alpha=100)"
      ],
      "metadata": {
        "id": "p-rSJvkobrRA"
      },
      "execution_count": null,
      "outputs": []
    },
    {
      "cell_type": "code",
      "source": [
        "model_one.fit(X_train,y_train)"
      ],
      "metadata": {
        "colab": {
          "base_uri": "https://localhost:8080/"
        },
        "id": "PwTGff99btQ9",
        "outputId": "41605822-6a37-4942-947d-180577ad0164"
      },
      "execution_count": null,
      "outputs": [
        {
          "output_type": "execute_result",
          "data": {
            "text/plain": [
              "Ridge(alpha=100)"
            ]
          },
          "metadata": {},
          "execution_count": 30
        }
      ]
    },
    {
      "cell_type": "code",
      "source": [
        "y_eval_pred = model_one.predict(X_eval)"
      ],
      "metadata": {
        "id": "bZyiyKuncELc"
      },
      "execution_count": null,
      "outputs": []
    },
    {
      "cell_type": "code",
      "source": [
        "from sklearn.metrics import mean_squared_error"
      ],
      "metadata": {
        "id": "1rD6VC1tcIRE"
      },
      "execution_count": null,
      "outputs": []
    },
    {
      "cell_type": "code",
      "source": [
        "mean_squared_error(y_eval,y_eval_pred)"
      ],
      "metadata": {
        "colab": {
          "base_uri": "https://localhost:8080/"
        },
        "id": "Gw0OGIrTcZRL",
        "outputId": "ab39a91f-e32b-4653-ab71-9bfdad0dd882"
      },
      "execution_count": null,
      "outputs": [
        {
          "output_type": "execute_result",
          "data": {
            "text/plain": [
              "7.320101458823871"
            ]
          },
          "metadata": {},
          "execution_count": 34
        }
      ]
    },
    {
      "cell_type": "code",
      "source": [
        "model_two = Ridge(alpha=1)"
      ],
      "metadata": {
        "id": "KpfxSDP1clmk"
      },
      "execution_count": null,
      "outputs": []
    },
    {
      "cell_type": "code",
      "source": [
        "model_two.fit(X_train,y_train)"
      ],
      "metadata": {
        "colab": {
          "base_uri": "https://localhost:8080/"
        },
        "id": "swu-HyyZczYi",
        "outputId": "0c0d8269-5fa0-424c-bfa6-37ab19d90db8"
      },
      "execution_count": null,
      "outputs": [
        {
          "output_type": "execute_result",
          "data": {
            "text/plain": [
              "Ridge(alpha=1)"
            ]
          },
          "metadata": {},
          "execution_count": 36
        }
      ]
    },
    {
      "cell_type": "code",
      "source": [
        "new_pred_eval = model_two.predict(X_eval)"
      ],
      "metadata": {
        "id": "MZI3MZD7c2dQ"
      },
      "execution_count": null,
      "outputs": []
    },
    {
      "cell_type": "code",
      "source": [
        "mean_squared_error(y_eval,new_pred_eval) #if result is satisfactory, we proceed to final test"
      ],
      "metadata": {
        "colab": {
          "base_uri": "https://localhost:8080/"
        },
        "id": "6fL4USUtc8V_",
        "outputId": "7f9f787f-b08d-4b24-b9ec-93b951ba012c"
      },
      "execution_count": null,
      "outputs": [
        {
          "output_type": "execute_result",
          "data": {
            "text/plain": [
              "2.383783075056986"
            ]
          },
          "metadata": {},
          "execution_count": 39
        }
      ]
    },
    {
      "cell_type": "code",
      "source": [
        "y_final_test_pred = model_two.predict(X_test)"
      ],
      "metadata": {
        "id": "sDVFN4lVdBOx"
      },
      "execution_count": null,
      "outputs": []
    },
    {
      "cell_type": "code",
      "source": [
        "mean_squared_error(y_test,y_final_test_pred)"
      ],
      "metadata": {
        "colab": {
          "base_uri": "https://localhost:8080/"
        },
        "id": "82ndIO1FdhzW",
        "outputId": "3f4481a7-0115-4f53-9f33-86068c70b132"
      },
      "execution_count": null,
      "outputs": [
        {
          "output_type": "execute_result",
          "data": {
            "text/plain": [
              "2.2542600838005176"
            ]
          },
          "metadata": {},
          "execution_count": 43
        }
      ]
    },
    {
      "cell_type": "markdown",
      "source": [
        "#**Cross Validation w/ cross_val_score** "
      ],
      "metadata": {
        "id": "Z9TG76HaeD6_"
      }
    },
    {
      "cell_type": "code",
      "source": [
        "X = df.drop('sales',axis=1)"
      ],
      "metadata": {
        "id": "UQp6ZydWd1Uy"
      },
      "execution_count": null,
      "outputs": []
    },
    {
      "cell_type": "code",
      "source": [
        "y = df['sales']"
      ],
      "metadata": {
        "id": "f0E1ZtkshTy6"
      },
      "execution_count": null,
      "outputs": []
    },
    {
      "cell_type": "code",
      "source": [
        "X_train, X_test, y_train, y_test = train_test_split(X, y, test_size=0.3, random_state=101)"
      ],
      "metadata": {
        "id": "8s4CanXLhWsO"
      },
      "execution_count": null,
      "outputs": []
    },
    {
      "cell_type": "code",
      "source": [
        "scaler = StandardScaler()"
      ],
      "metadata": {
        "id": "CioqFhN5huMJ"
      },
      "execution_count": null,
      "outputs": []
    },
    {
      "cell_type": "code",
      "source": [
        "scaler.fit(X_train)"
      ],
      "metadata": {
        "colab": {
          "base_uri": "https://localhost:8080/"
        },
        "id": "ZUsi5hK5hxEf",
        "outputId": "5594cf15-c798-41c5-930c-75e64cf4b134"
      },
      "execution_count": null,
      "outputs": [
        {
          "output_type": "execute_result",
          "data": {
            "text/plain": [
              "StandardScaler()"
            ]
          },
          "metadata": {},
          "execution_count": 48
        }
      ]
    },
    {
      "cell_type": "code",
      "source": [
        "X_train = scaler.transform(X_train)"
      ],
      "metadata": {
        "id": "lpZE5t_hhzKu"
      },
      "execution_count": null,
      "outputs": []
    },
    {
      "cell_type": "code",
      "source": [
        "X_test = scaler.transform(X_test)"
      ],
      "metadata": {
        "id": "ydbUbiRVh3FP"
      },
      "execution_count": null,
      "outputs": []
    },
    {
      "cell_type": "code",
      "source": [
        "model = Ridge(alpha=100)"
      ],
      "metadata": {
        "id": "1QLs7osxh5jE"
      },
      "execution_count": null,
      "outputs": []
    },
    {
      "cell_type": "code",
      "source": [
        "from sklearn.model_selection import cross_val_score"
      ],
      "metadata": {
        "id": "Xm2MHLpfh8md"
      },
      "execution_count": null,
      "outputs": []
    },
    {
      "cell_type": "code",
      "source": [
        "scores = cross_val_score(model,X_train,y_train,scoring='neg_mean_squared_error',\n",
        "                         cv=5)"
      ],
      "metadata": {
        "id": "u-BRuO1niCUz"
      },
      "execution_count": null,
      "outputs": []
    },
    {
      "cell_type": "code",
      "source": [
        "scores #bc of neg mean sq error, high is better."
      ],
      "metadata": {
        "colab": {
          "base_uri": "https://localhost:8080/"
        },
        "id": "G-fQGaW2isSS",
        "outputId": "279dd77c-f6e2-483f-c9a0-af923b494b28"
      },
      "execution_count": null,
      "outputs": [
        {
          "output_type": "execute_result",
          "data": {
            "text/plain": [
              "array([ -9.32552967,  -4.9449624 , -11.39665242,  -7.0242106 ,\n",
              "        -8.38562723])"
            ]
          },
          "metadata": {},
          "execution_count": 55
        }
      ]
    },
    {
      "cell_type": "code",
      "source": [
        "abs(scores.mean()) #mean of the scores"
      ],
      "metadata": {
        "colab": {
          "base_uri": "https://localhost:8080/"
        },
        "id": "rwhqwyO3iuec",
        "outputId": "ccfc94c4-fa4d-4396-c8d5-a64af1e573f6"
      },
      "execution_count": null,
      "outputs": [
        {
          "output_type": "execute_result",
          "data": {
            "text/plain": [
              "8.215396464543607"
            ]
          },
          "metadata": {},
          "execution_count": 57
        }
      ]
    },
    {
      "cell_type": "code",
      "source": [
        "model = Ridge(alpha=1)"
      ],
      "metadata": {
        "id": "8jIbEdjZi6Bi"
      },
      "execution_count": null,
      "outputs": []
    },
    {
      "cell_type": "code",
      "source": [
        "scores = cross_val_score(model,X_train,y_train,scoring='neg_mean_squared_error',\n",
        "                         cv=5)"
      ],
      "metadata": {
        "id": "rXm0iLkijAE0"
      },
      "execution_count": null,
      "outputs": []
    },
    {
      "cell_type": "code",
      "source": [
        "scores"
      ],
      "metadata": {
        "colab": {
          "base_uri": "https://localhost:8080/"
        },
        "id": "9fgoRk7cjCI7",
        "outputId": "ad8031ed-d4d8-476a-fd0b-9da441424f40"
      },
      "execution_count": null,
      "outputs": [
        {
          "output_type": "execute_result",
          "data": {
            "text/plain": [
              "array([-3.15513238, -1.58086982, -5.40455562, -2.21654481, -4.36709384])"
            ]
          },
          "metadata": {},
          "execution_count": 60
        }
      ]
    },
    {
      "cell_type": "code",
      "source": [
        "abs(scores.mean()) "
      ],
      "metadata": {
        "colab": {
          "base_uri": "https://localhost:8080/"
        },
        "id": "ZJO7CMHYjC5d",
        "outputId": "5606ed1d-5a61-4b60-9ff5-291011dc9a30"
      },
      "execution_count": null,
      "outputs": [
        {
          "output_type": "execute_result",
          "data": {
            "text/plain": [
              "3.344839296530695"
            ]
          },
          "metadata": {},
          "execution_count": 61
        }
      ]
    },
    {
      "cell_type": "code",
      "source": [
        "model.fit(X_train,y_train)"
      ],
      "metadata": {
        "colab": {
          "base_uri": "https://localhost:8080/"
        },
        "id": "wEtWiBRHjE7i",
        "outputId": "e60c81c1-0f7f-4280-af71-3857ece88199"
      },
      "execution_count": null,
      "outputs": [
        {
          "output_type": "execute_result",
          "data": {
            "text/plain": [
              "Ridge(alpha=1)"
            ]
          },
          "metadata": {},
          "execution_count": 62
        }
      ]
    },
    {
      "cell_type": "code",
      "source": [
        "y_final_test_pred = model.predict(X_test)"
      ],
      "metadata": {
        "id": "53nWiVkHkOJ7"
      },
      "execution_count": null,
      "outputs": []
    },
    {
      "cell_type": "code",
      "source": [
        "mean_squared_error(y_test,y_final_test_pred)"
      ],
      "metadata": {
        "colab": {
          "base_uri": "https://localhost:8080/"
        },
        "id": "L24KcZBKkSnB",
        "outputId": "873b6cb4-7728-42b9-9064-1367f354fec2"
      },
      "execution_count": null,
      "outputs": [
        {
          "output_type": "execute_result",
          "data": {
            "text/plain": [
              "2.319021579428752"
            ]
          },
          "metadata": {},
          "execution_count": 65
        }
      ]
    },
    {
      "cell_type": "markdown",
      "source": [
        "#**cross_validate**"
      ],
      "metadata": {
        "id": "s8N1auGcklkw"
      }
    },
    {
      "cell_type": "code",
      "source": [
        "X_train, X_test, y_train, y_test = train_test_split(X, y, test_size=0.3, random_state=101)\n",
        "scaler = StandardScaler()\n",
        "scaler.fit(X_train)\n",
        "X_train = scaler.transform(X_train)\n",
        "X_test = scaler.transform(X_test)"
      ],
      "metadata": {
        "id": "EM3B-89ekXFp"
      },
      "execution_count": null,
      "outputs": []
    },
    {
      "cell_type": "code",
      "source": [
        "from sklearn.model_selection import cross_validate"
      ],
      "metadata": {
        "id": "DU5XjH2ek7ho"
      },
      "execution_count": null,
      "outputs": []
    },
    {
      "cell_type": "code",
      "source": [
        "model = Ridge(alpha=100)"
      ],
      "metadata": {
        "id": "CQlaY36slNOW"
      },
      "execution_count": null,
      "outputs": []
    },
    {
      "cell_type": "code",
      "source": [
        "scores = cross_validate(model,X_train,y_train,scoring=['neg_mean_squared_error','neg_mean_absolute_error'],cv=10)"
      ],
      "metadata": {
        "id": "UOUaEsxslPLY"
      },
      "execution_count": null,
      "outputs": []
    },
    {
      "cell_type": "code",
      "source": [
        "#https://scikit-learn.org/stable/modules/model_evaluation.html"
      ],
      "metadata": {
        "id": "b6eNtfOilTdy"
      },
      "execution_count": null,
      "outputs": []
    },
    {
      "cell_type": "code",
      "source": [
        "scores = pd.DataFrame(scores)"
      ],
      "metadata": {
        "id": "uI19Eecnlie0"
      },
      "execution_count": null,
      "outputs": []
    },
    {
      "cell_type": "code",
      "source": [
        "scores.mean()"
      ],
      "metadata": {
        "colab": {
          "base_uri": "https://localhost:8080/"
        },
        "id": "nMwf_wA7mPOp",
        "outputId": "fdf0d48f-95b6-4df4-b460-e4cc59677d3a"
      },
      "execution_count": null,
      "outputs": [
        {
          "output_type": "execute_result",
          "data": {
            "text/plain": [
              "fit_time                        0.007613\n",
              "score_time                      0.003107\n",
              "test_neg_mean_squared_error    -7.565121\n",
              "test_neg_mean_absolute_error   -2.083773\n",
              "dtype: float64"
            ]
          },
          "metadata": {},
          "execution_count": 77
        }
      ]
    },
    {
      "cell_type": "code",
      "source": [
        "model = Ridge(alpha=1)"
      ],
      "metadata": {
        "id": "M7QYnP0GmTL3"
      },
      "execution_count": null,
      "outputs": []
    },
    {
      "cell_type": "code",
      "source": [
        "scores = cross_validate(model,X_train,y_train,scoring=['neg_mean_squared_error','neg_mean_absolute_error'],cv=10)"
      ],
      "metadata": {
        "id": "xBKsIRc8mhvJ"
      },
      "execution_count": null,
      "outputs": []
    },
    {
      "cell_type": "code",
      "source": [
        "scores = pd.DataFrame(scores)"
      ],
      "metadata": {
        "id": "AnGnFwWEmvg7"
      },
      "execution_count": null,
      "outputs": []
    },
    {
      "cell_type": "code",
      "source": [
        "scores.mean()"
      ],
      "metadata": {
        "colab": {
          "base_uri": "https://localhost:8080/"
        },
        "id": "VHDiJlanmwfE",
        "outputId": "ee96d1db-0e64-4f51-d1d1-8b3a0675b3b2"
      },
      "execution_count": null,
      "outputs": [
        {
          "output_type": "execute_result",
          "data": {
            "text/plain": [
              "fit_time                        0.002194\n",
              "score_time                      0.001570\n",
              "test_neg_mean_squared_error    -3.323018\n",
              "test_neg_mean_absolute_error   -1.308467\n",
              "dtype: float64"
            ]
          },
          "metadata": {},
          "execution_count": 81
        }
      ]
    },
    {
      "cell_type": "code",
      "source": [
        "model.fit(X_train,y_train)"
      ],
      "metadata": {
        "colab": {
          "base_uri": "https://localhost:8080/"
        },
        "id": "lx3cTMHamxEc",
        "outputId": "3ab79b80-8ab6-4d00-b8c5-fcdf306ad5fb"
      },
      "execution_count": null,
      "outputs": [
        {
          "output_type": "execute_result",
          "data": {
            "text/plain": [
              "Ridge(alpha=1)"
            ]
          },
          "metadata": {},
          "execution_count": 82
        }
      ]
    },
    {
      "cell_type": "code",
      "source": [
        "y_final_pred = model.predict(X_test)"
      ],
      "metadata": {
        "id": "R_kcpxt4m-hX"
      },
      "execution_count": null,
      "outputs": []
    },
    {
      "cell_type": "code",
      "source": [
        "mean_squared_error(y_test,y_final_pred)"
      ],
      "metadata": {
        "colab": {
          "base_uri": "https://localhost:8080/"
        },
        "id": "nBRCmCJZnB_y",
        "outputId": "4a232d0f-d888-4fa0-ec5f-77d89ff7a681"
      },
      "execution_count": null,
      "outputs": [
        {
          "output_type": "execute_result",
          "data": {
            "text/plain": [
              "2.319021579428752"
            ]
          },
          "metadata": {},
          "execution_count": 85
        }
      ]
    },
    {
      "cell_type": "markdown",
      "source": [
        "#**Grid Search**"
      ],
      "metadata": {
        "id": "vcylnsE3oFLX"
      }
    },
    {
      "cell_type": "code",
      "source": [
        "X_train, X_test, y_train, y_test = train_test_split(X, y, test_size=0.3, random_state=101)\n",
        "scaler = StandardScaler()\n",
        "scaler.fit(X_train)\n",
        "X_train = scaler.transform(X_train)\n",
        "X_test = scaler.transform(X_test)"
      ],
      "metadata": {
        "id": "Her8Oji4oG3N"
      },
      "execution_count": null,
      "outputs": []
    },
    {
      "cell_type": "code",
      "source": [
        "from sklearn.linear_model import ElasticNet"
      ],
      "metadata": {
        "id": "P35jc361qm0d"
      },
      "execution_count": null,
      "outputs": []
    },
    {
      "cell_type": "code",
      "source": [
        "base_elastic_net_model = ElasticNet()"
      ],
      "metadata": {
        "id": "AdmJ-iijq7ns"
      },
      "execution_count": null,
      "outputs": []
    },
    {
      "cell_type": "code",
      "source": [
        "param_grid = {'alpha':[0.1,1,5,10,50,100],\n",
        "              'l1_ratio':[.1,.5,.7,.95,.99,1]}"
      ],
      "metadata": {
        "id": "nYuAYrLNq9j2"
      },
      "execution_count": null,
      "outputs": []
    },
    {
      "cell_type": "code",
      "source": [
        "from sklearn.model_selection import GridSearchCV"
      ],
      "metadata": {
        "id": "HU2Q3FSUrrKF"
      },
      "execution_count": null,
      "outputs": []
    },
    {
      "cell_type": "code",
      "source": [
        "grid_model = GridSearchCV(estimator=base_elastic_net_model,\n",
        "                          param_grid=param_grid,\n",
        "                          scoring='neg_mean_squared_error',\n",
        "                          cv=5,\n",
        "                          verbose=1)"
      ],
      "metadata": {
        "id": "qVISAwggrue_"
      },
      "execution_count": null,
      "outputs": []
    },
    {
      "cell_type": "code",
      "source": [
        "grid_model.fit(X_train,y_train)"
      ],
      "metadata": {
        "colab": {
          "base_uri": "https://localhost:8080/"
        },
        "id": "3b7zikz_sOtW",
        "outputId": "b747d34f-25ab-445e-9d2a-54e6a78cc07b"
      },
      "execution_count": null,
      "outputs": [
        {
          "output_type": "stream",
          "name": "stdout",
          "text": [
            "Fitting 5 folds for each of 36 candidates, totalling 180 fits\n"
          ]
        },
        {
          "output_type": "execute_result",
          "data": {
            "text/plain": [
              "GridSearchCV(cv=5, estimator=ElasticNet(),\n",
              "             param_grid={'alpha': [0.1, 1, 5, 10, 50, 100],\n",
              "                         'l1_ratio': [0.1, 0.5, 0.7, 0.95, 0.99, 1]},\n",
              "             scoring='neg_mean_squared_error', verbose=1)"
            ]
          },
          "metadata": {},
          "execution_count": 125
        }
      ]
    },
    {
      "cell_type": "code",
      "source": [
        "grid_model.best_estimator_"
      ],
      "metadata": {
        "colab": {
          "base_uri": "https://localhost:8080/"
        },
        "id": "u8lEhP2nsXOk",
        "outputId": "c666caa8-c7e5-4dcd-e9d6-8c733ca5adb8"
      },
      "execution_count": null,
      "outputs": [
        {
          "output_type": "execute_result",
          "data": {
            "text/plain": [
              "ElasticNet(alpha=0.1, l1_ratio=1)"
            ]
          },
          "metadata": {},
          "execution_count": 128
        }
      ]
    },
    {
      "cell_type": "code",
      "source": [
        "grid_model.best_params_"
      ],
      "metadata": {
        "colab": {
          "base_uri": "https://localhost:8080/"
        },
        "id": "WQFcUDg8wFUD",
        "outputId": "8507ac30-2c75-4dd4-8941-4a3538fc0341"
      },
      "execution_count": null,
      "outputs": [
        {
          "output_type": "execute_result",
          "data": {
            "text/plain": [
              "{'alpha': 0.1, 'l1_ratio': 1}"
            ]
          },
          "metadata": {},
          "execution_count": 129
        }
      ]
    },
    {
      "cell_type": "code",
      "source": [
        "pd.DataFrame(grid_model.cv_results_)"
      ],
      "metadata": {
        "colab": {
          "base_uri": "https://localhost:8080/",
          "height": 1000
        },
        "id": "u65JIVxlzEXE",
        "outputId": "551ece37-813a-4d10-935f-cbf1ab2e7c14"
      },
      "execution_count": null,
      "outputs": [
        {
          "output_type": "execute_result",
          "data": {
            "text/plain": [
              "    mean_fit_time  std_fit_time  mean_score_time  std_score_time param_alpha  \\\n",
              "0        0.002717      0.001893         0.000815        0.000073         0.1   \n",
              "1        0.002974      0.002860         0.000750        0.000041         0.1   \n",
              "2        0.005876      0.003556         0.000794        0.000007         0.1   \n",
              "3        0.004480      0.003488         0.000831        0.000052         0.1   \n",
              "4        0.003564      0.002768         0.000784        0.000016         0.1   \n",
              "5        0.001546      0.000079         0.000797        0.000082         0.1   \n",
              "6        0.001654      0.000046         0.000763        0.000030           1   \n",
              "7        0.001613      0.000073         0.000780        0.000057           1   \n",
              "8        0.002798      0.002461         0.000747        0.000037           1   \n",
              "9        0.001663      0.000046         0.000782        0.000031           1   \n",
              "10       0.001706      0.000156         0.000784        0.000021           1   \n",
              "11       0.001667      0.000033         0.000794        0.000024           1   \n",
              "12       0.001684      0.000008         0.000840        0.000060           5   \n",
              "13       0.001644      0.000148         0.000786        0.000057           5   \n",
              "14       0.004815      0.005800         0.002061        0.002446           5   \n",
              "15       0.001680      0.000040         0.000805        0.000021           5   \n",
              "16       0.001686      0.000021         0.000820        0.000047           5   \n",
              "17       0.001680      0.000009         0.000854        0.000159           5   \n",
              "18       0.002436      0.001541         0.000782        0.000014          10   \n",
              "19       0.001578      0.000139         0.000747        0.000071          10   \n",
              "20       0.001696      0.000043         0.000786        0.000013          10   \n",
              "21       0.002823      0.001496         0.001012        0.000472          10   \n",
              "22       0.001601      0.000068         0.000797        0.000057          10   \n",
              "23       0.001590      0.000046         0.000750        0.000046          10   \n",
              "24       0.001641      0.000285         0.000748        0.000051          50   \n",
              "25       0.001609      0.000066         0.000760        0.000036          50   \n",
              "26       0.001702      0.000147         0.000787        0.000023          50   \n",
              "27       0.001752      0.000119         0.000821        0.000053          50   \n",
              "28       0.002344      0.001570         0.000786        0.000039          50   \n",
              "29       0.002006      0.000784         0.000746        0.000020          50   \n",
              "30       0.001621      0.000091         0.000781        0.000053         100   \n",
              "31       0.001577      0.000073         0.000772        0.000035         100   \n",
              "32       0.002116      0.000965         0.000761        0.000020         100   \n",
              "33       0.001562      0.000016         0.000760        0.000031         100   \n",
              "34       0.001598      0.000168         0.000765        0.000033         100   \n",
              "35       0.001604      0.000038         0.000734        0.000043         100   \n",
              "\n",
              "   param_l1_ratio                            params  split0_test_score  \\\n",
              "0             0.1   {'alpha': 0.1, 'l1_ratio': 0.1}          -3.453021   \n",
              "1             0.5   {'alpha': 0.1, 'l1_ratio': 0.5}          -3.325440   \n",
              "2             0.7   {'alpha': 0.1, 'l1_ratio': 0.7}          -3.269880   \n",
              "3            0.95  {'alpha': 0.1, 'l1_ratio': 0.95}          -3.213052   \n",
              "4            0.99  {'alpha': 0.1, 'l1_ratio': 0.99}          -3.208124   \n",
              "5               1     {'alpha': 0.1, 'l1_ratio': 1}          -3.206943   \n",
              "6             0.1     {'alpha': 1, 'l1_ratio': 0.1}          -9.827475   \n",
              "7             0.5     {'alpha': 1, 'l1_ratio': 0.5}          -8.707071   \n",
              "8             0.7     {'alpha': 1, 'l1_ratio': 0.7}          -7.920870   \n",
              "9            0.95    {'alpha': 1, 'l1_ratio': 0.95}          -6.729435   \n",
              "10           0.99    {'alpha': 1, 'l1_ratio': 0.99}          -6.521344   \n",
              "11              1       {'alpha': 1, 'l1_ratio': 1}          -6.468807   \n",
              "12            0.1     {'alpha': 5, 'l1_ratio': 0.1}         -22.979265   \n",
              "13            0.5     {'alpha': 5, 'l1_ratio': 0.5}         -27.793488   \n",
              "14            0.7     {'alpha': 5, 'l1_ratio': 0.7}         -29.655510   \n",
              "15           0.95    {'alpha': 5, 'l1_ratio': 0.95}         -31.130307   \n",
              "16           0.99    {'alpha': 5, 'l1_ratio': 0.99}         -31.130307   \n",
              "17              1       {'alpha': 5, 'l1_ratio': 1}         -31.130307   \n",
              "18            0.1    {'alpha': 10, 'l1_ratio': 0.1}         -27.385346   \n",
              "19            0.5    {'alpha': 10, 'l1_ratio': 0.5}         -31.130307   \n",
              "20            0.7    {'alpha': 10, 'l1_ratio': 0.7}         -31.130307   \n",
              "21           0.95   {'alpha': 10, 'l1_ratio': 0.95}         -31.130307   \n",
              "22           0.99   {'alpha': 10, 'l1_ratio': 0.99}         -31.130307   \n",
              "23              1      {'alpha': 10, 'l1_ratio': 1}         -31.130307   \n",
              "24            0.1    {'alpha': 50, 'l1_ratio': 0.1}         -31.130307   \n",
              "25            0.5    {'alpha': 50, 'l1_ratio': 0.5}         -31.130307   \n",
              "26            0.7    {'alpha': 50, 'l1_ratio': 0.7}         -31.130307   \n",
              "27           0.95   {'alpha': 50, 'l1_ratio': 0.95}         -31.130307   \n",
              "28           0.99   {'alpha': 50, 'l1_ratio': 0.99}         -31.130307   \n",
              "29              1      {'alpha': 50, 'l1_ratio': 1}         -31.130307   \n",
              "30            0.1   {'alpha': 100, 'l1_ratio': 0.1}         -31.130307   \n",
              "31            0.5   {'alpha': 100, 'l1_ratio': 0.5}         -31.130307   \n",
              "32            0.7   {'alpha': 100, 'l1_ratio': 0.7}         -31.130307   \n",
              "33           0.95  {'alpha': 100, 'l1_ratio': 0.95}         -31.130307   \n",
              "34           0.99  {'alpha': 100, 'l1_ratio': 0.99}         -31.130307   \n",
              "35              1     {'alpha': 100, 'l1_ratio': 1}         -31.130307   \n",
              "\n",
              "    split1_test_score  split2_test_score  split3_test_score  \\\n",
              "0           -1.405190          -5.789125          -2.187302   \n",
              "1           -1.427522          -5.595610          -2.163089   \n",
              "2           -1.442432          -5.502437          -2.163950   \n",
              "3           -1.472417          -5.396258          -2.177452   \n",
              "4           -1.478489          -5.380242          -2.181097   \n",
              "5           -1.480065          -5.376257          -2.182076   \n",
              "6           -5.261525         -11.875347          -7.449195   \n",
              "7           -4.214228         -10.879261          -6.204545   \n",
              "8           -3.549562         -10.024877          -5.379553   \n",
              "9           -2.591285          -8.709842          -4.156317   \n",
              "10          -2.431385          -8.471086          -3.946327   \n",
              "11          -2.391483          -8.410171          -3.893566   \n",
              "12         -15.547104         -23.668249         -19.921063   \n",
              "13         -18.602269         -27.107849         -23.945227   \n",
              "14         -21.085059         -29.629478         -26.724595   \n",
              "15         -22.549433         -31.155204         -27.963447   \n",
              "16         -22.549433         -31.155204         -27.963447   \n",
              "17         -22.549433         -31.155204         -27.963447   \n",
              "18         -19.159534         -27.635464         -24.154104   \n",
              "19         -22.549433         -31.155204         -27.963447   \n",
              "20         -22.549433         -31.155204         -27.963447   \n",
              "21         -22.549433         -31.155204         -27.963447   \n",
              "22         -22.549433         -31.155204         -27.963447   \n",
              "23         -22.549433         -31.155204         -27.963447   \n",
              "24         -22.549433         -31.155204         -27.963447   \n",
              "25         -22.549433         -31.155204         -27.963447   \n",
              "26         -22.549433         -31.155204         -27.963447   \n",
              "27         -22.549433         -31.155204         -27.963447   \n",
              "28         -22.549433         -31.155204         -27.963447   \n",
              "29         -22.549433         -31.155204         -27.963447   \n",
              "30         -22.549433         -31.155204         -27.963447   \n",
              "31         -22.549433         -31.155204         -27.963447   \n",
              "32         -22.549433         -31.155204         -27.963447   \n",
              "33         -22.549433         -31.155204         -27.963447   \n",
              "34         -22.549433         -31.155204         -27.963447   \n",
              "35         -22.549433         -31.155204         -27.963447   \n",
              "\n",
              "    split4_test_score  mean_test_score  std_test_score  rank_test_score  \n",
              "0           -4.645576        -3.496043        1.591601                6  \n",
              "1           -4.451679        -3.392668        1.506827                5  \n",
              "2           -4.356738        -3.347088        1.462765                4  \n",
              "3           -4.241080        -3.300052        1.406248                3  \n",
              "4           -4.222968        -3.294184        1.396953                2  \n",
              "5           -4.218460        -3.292760        1.394613                1  \n",
              "6           -8.542329        -8.591174        2.222939               12  \n",
              "7           -7.173031        -7.435627        2.255532               11  \n",
              "8           -6.324836        -6.639940        2.206213               10  \n",
              "9           -5.329916        -5.503359        2.102835                9  \n",
              "10          -5.151344        -5.304297        2.079945                8  \n",
              "11          -5.105922        -5.253990        2.073832                7  \n",
              "12         -16.262737       -19.675684        3.334901               13  \n",
              "13         -18.064635       -23.102694        4.108297               14  \n",
              "14         -20.223654       -25.463659        4.077877               16  \n",
              "15         -21.698192       -26.899317        4.077240               17  \n",
              "16         -21.698192       -26.899317        4.077240               17  \n",
              "17         -21.698192       -26.899317        4.077240               17  \n",
              "18         -18.968161       -23.460522        3.794608               15  \n",
              "19         -21.698192       -26.899317        4.077240               17  \n",
              "20         -21.698192       -26.899317        4.077240               17  \n",
              "21         -21.698192       -26.899317        4.077240               17  \n",
              "22         -21.698192       -26.899317        4.077240               17  \n",
              "23         -21.698192       -26.899317        4.077240               17  \n",
              "24         -21.698192       -26.899317        4.077240               17  \n",
              "25         -21.698192       -26.899317        4.077240               17  \n",
              "26         -21.698192       -26.899317        4.077240               17  \n",
              "27         -21.698192       -26.899317        4.077240               17  \n",
              "28         -21.698192       -26.899317        4.077240               17  \n",
              "29         -21.698192       -26.899317        4.077240               17  \n",
              "30         -21.698192       -26.899317        4.077240               17  \n",
              "31         -21.698192       -26.899317        4.077240               17  \n",
              "32         -21.698192       -26.899317        4.077240               17  \n",
              "33         -21.698192       -26.899317        4.077240               17  \n",
              "34         -21.698192       -26.899317        4.077240               17  \n",
              "35         -21.698192       -26.899317        4.077240               17  "
            ],
            "text/html": [
              "\n",
              "  <div id=\"df-fc008f54-729c-45a5-b84c-662dd71b49c1\">\n",
              "    <div class=\"colab-df-container\">\n",
              "      <div>\n",
              "<style scoped>\n",
              "    .dataframe tbody tr th:only-of-type {\n",
              "        vertical-align: middle;\n",
              "    }\n",
              "\n",
              "    .dataframe tbody tr th {\n",
              "        vertical-align: top;\n",
              "    }\n",
              "\n",
              "    .dataframe thead th {\n",
              "        text-align: right;\n",
              "    }\n",
              "</style>\n",
              "<table border=\"1\" class=\"dataframe\">\n",
              "  <thead>\n",
              "    <tr style=\"text-align: right;\">\n",
              "      <th></th>\n",
              "      <th>mean_fit_time</th>\n",
              "      <th>std_fit_time</th>\n",
              "      <th>mean_score_time</th>\n",
              "      <th>std_score_time</th>\n",
              "      <th>param_alpha</th>\n",
              "      <th>param_l1_ratio</th>\n",
              "      <th>params</th>\n",
              "      <th>split0_test_score</th>\n",
              "      <th>split1_test_score</th>\n",
              "      <th>split2_test_score</th>\n",
              "      <th>split3_test_score</th>\n",
              "      <th>split4_test_score</th>\n",
              "      <th>mean_test_score</th>\n",
              "      <th>std_test_score</th>\n",
              "      <th>rank_test_score</th>\n",
              "    </tr>\n",
              "  </thead>\n",
              "  <tbody>\n",
              "    <tr>\n",
              "      <th>0</th>\n",
              "      <td>0.002717</td>\n",
              "      <td>0.001893</td>\n",
              "      <td>0.000815</td>\n",
              "      <td>0.000073</td>\n",
              "      <td>0.1</td>\n",
              "      <td>0.1</td>\n",
              "      <td>{'alpha': 0.1, 'l1_ratio': 0.1}</td>\n",
              "      <td>-3.453021</td>\n",
              "      <td>-1.405190</td>\n",
              "      <td>-5.789125</td>\n",
              "      <td>-2.187302</td>\n",
              "      <td>-4.645576</td>\n",
              "      <td>-3.496043</td>\n",
              "      <td>1.591601</td>\n",
              "      <td>6</td>\n",
              "    </tr>\n",
              "    <tr>\n",
              "      <th>1</th>\n",
              "      <td>0.002974</td>\n",
              "      <td>0.002860</td>\n",
              "      <td>0.000750</td>\n",
              "      <td>0.000041</td>\n",
              "      <td>0.1</td>\n",
              "      <td>0.5</td>\n",
              "      <td>{'alpha': 0.1, 'l1_ratio': 0.5}</td>\n",
              "      <td>-3.325440</td>\n",
              "      <td>-1.427522</td>\n",
              "      <td>-5.595610</td>\n",
              "      <td>-2.163089</td>\n",
              "      <td>-4.451679</td>\n",
              "      <td>-3.392668</td>\n",
              "      <td>1.506827</td>\n",
              "      <td>5</td>\n",
              "    </tr>\n",
              "    <tr>\n",
              "      <th>2</th>\n",
              "      <td>0.005876</td>\n",
              "      <td>0.003556</td>\n",
              "      <td>0.000794</td>\n",
              "      <td>0.000007</td>\n",
              "      <td>0.1</td>\n",
              "      <td>0.7</td>\n",
              "      <td>{'alpha': 0.1, 'l1_ratio': 0.7}</td>\n",
              "      <td>-3.269880</td>\n",
              "      <td>-1.442432</td>\n",
              "      <td>-5.502437</td>\n",
              "      <td>-2.163950</td>\n",
              "      <td>-4.356738</td>\n",
              "      <td>-3.347088</td>\n",
              "      <td>1.462765</td>\n",
              "      <td>4</td>\n",
              "    </tr>\n",
              "    <tr>\n",
              "      <th>3</th>\n",
              "      <td>0.004480</td>\n",
              "      <td>0.003488</td>\n",
              "      <td>0.000831</td>\n",
              "      <td>0.000052</td>\n",
              "      <td>0.1</td>\n",
              "      <td>0.95</td>\n",
              "      <td>{'alpha': 0.1, 'l1_ratio': 0.95}</td>\n",
              "      <td>-3.213052</td>\n",
              "      <td>-1.472417</td>\n",
              "      <td>-5.396258</td>\n",
              "      <td>-2.177452</td>\n",
              "      <td>-4.241080</td>\n",
              "      <td>-3.300052</td>\n",
              "      <td>1.406248</td>\n",
              "      <td>3</td>\n",
              "    </tr>\n",
              "    <tr>\n",
              "      <th>4</th>\n",
              "      <td>0.003564</td>\n",
              "      <td>0.002768</td>\n",
              "      <td>0.000784</td>\n",
              "      <td>0.000016</td>\n",
              "      <td>0.1</td>\n",
              "      <td>0.99</td>\n",
              "      <td>{'alpha': 0.1, 'l1_ratio': 0.99}</td>\n",
              "      <td>-3.208124</td>\n",
              "      <td>-1.478489</td>\n",
              "      <td>-5.380242</td>\n",
              "      <td>-2.181097</td>\n",
              "      <td>-4.222968</td>\n",
              "      <td>-3.294184</td>\n",
              "      <td>1.396953</td>\n",
              "      <td>2</td>\n",
              "    </tr>\n",
              "    <tr>\n",
              "      <th>5</th>\n",
              "      <td>0.001546</td>\n",
              "      <td>0.000079</td>\n",
              "      <td>0.000797</td>\n",
              "      <td>0.000082</td>\n",
              "      <td>0.1</td>\n",
              "      <td>1</td>\n",
              "      <td>{'alpha': 0.1, 'l1_ratio': 1}</td>\n",
              "      <td>-3.206943</td>\n",
              "      <td>-1.480065</td>\n",
              "      <td>-5.376257</td>\n",
              "      <td>-2.182076</td>\n",
              "      <td>-4.218460</td>\n",
              "      <td>-3.292760</td>\n",
              "      <td>1.394613</td>\n",
              "      <td>1</td>\n",
              "    </tr>\n",
              "    <tr>\n",
              "      <th>6</th>\n",
              "      <td>0.001654</td>\n",
              "      <td>0.000046</td>\n",
              "      <td>0.000763</td>\n",
              "      <td>0.000030</td>\n",
              "      <td>1</td>\n",
              "      <td>0.1</td>\n",
              "      <td>{'alpha': 1, 'l1_ratio': 0.1}</td>\n",
              "      <td>-9.827475</td>\n",
              "      <td>-5.261525</td>\n",
              "      <td>-11.875347</td>\n",
              "      <td>-7.449195</td>\n",
              "      <td>-8.542329</td>\n",
              "      <td>-8.591174</td>\n",
              "      <td>2.222939</td>\n",
              "      <td>12</td>\n",
              "    </tr>\n",
              "    <tr>\n",
              "      <th>7</th>\n",
              "      <td>0.001613</td>\n",
              "      <td>0.000073</td>\n",
              "      <td>0.000780</td>\n",
              "      <td>0.000057</td>\n",
              "      <td>1</td>\n",
              "      <td>0.5</td>\n",
              "      <td>{'alpha': 1, 'l1_ratio': 0.5}</td>\n",
              "      <td>-8.707071</td>\n",
              "      <td>-4.214228</td>\n",
              "      <td>-10.879261</td>\n",
              "      <td>-6.204545</td>\n",
              "      <td>-7.173031</td>\n",
              "      <td>-7.435627</td>\n",
              "      <td>2.255532</td>\n",
              "      <td>11</td>\n",
              "    </tr>\n",
              "    <tr>\n",
              "      <th>8</th>\n",
              "      <td>0.002798</td>\n",
              "      <td>0.002461</td>\n",
              "      <td>0.000747</td>\n",
              "      <td>0.000037</td>\n",
              "      <td>1</td>\n",
              "      <td>0.7</td>\n",
              "      <td>{'alpha': 1, 'l1_ratio': 0.7}</td>\n",
              "      <td>-7.920870</td>\n",
              "      <td>-3.549562</td>\n",
              "      <td>-10.024877</td>\n",
              "      <td>-5.379553</td>\n",
              "      <td>-6.324836</td>\n",
              "      <td>-6.639940</td>\n",
              "      <td>2.206213</td>\n",
              "      <td>10</td>\n",
              "    </tr>\n",
              "    <tr>\n",
              "      <th>9</th>\n",
              "      <td>0.001663</td>\n",
              "      <td>0.000046</td>\n",
              "      <td>0.000782</td>\n",
              "      <td>0.000031</td>\n",
              "      <td>1</td>\n",
              "      <td>0.95</td>\n",
              "      <td>{'alpha': 1, 'l1_ratio': 0.95}</td>\n",
              "      <td>-6.729435</td>\n",
              "      <td>-2.591285</td>\n",
              "      <td>-8.709842</td>\n",
              "      <td>-4.156317</td>\n",
              "      <td>-5.329916</td>\n",
              "      <td>-5.503359</td>\n",
              "      <td>2.102835</td>\n",
              "      <td>9</td>\n",
              "    </tr>\n",
              "    <tr>\n",
              "      <th>10</th>\n",
              "      <td>0.001706</td>\n",
              "      <td>0.000156</td>\n",
              "      <td>0.000784</td>\n",
              "      <td>0.000021</td>\n",
              "      <td>1</td>\n",
              "      <td>0.99</td>\n",
              "      <td>{'alpha': 1, 'l1_ratio': 0.99}</td>\n",
              "      <td>-6.521344</td>\n",
              "      <td>-2.431385</td>\n",
              "      <td>-8.471086</td>\n",
              "      <td>-3.946327</td>\n",
              "      <td>-5.151344</td>\n",
              "      <td>-5.304297</td>\n",
              "      <td>2.079945</td>\n",
              "      <td>8</td>\n",
              "    </tr>\n",
              "    <tr>\n",
              "      <th>11</th>\n",
              "      <td>0.001667</td>\n",
              "      <td>0.000033</td>\n",
              "      <td>0.000794</td>\n",
              "      <td>0.000024</td>\n",
              "      <td>1</td>\n",
              "      <td>1</td>\n",
              "      <td>{'alpha': 1, 'l1_ratio': 1}</td>\n",
              "      <td>-6.468807</td>\n",
              "      <td>-2.391483</td>\n",
              "      <td>-8.410171</td>\n",
              "      <td>-3.893566</td>\n",
              "      <td>-5.105922</td>\n",
              "      <td>-5.253990</td>\n",
              "      <td>2.073832</td>\n",
              "      <td>7</td>\n",
              "    </tr>\n",
              "    <tr>\n",
              "      <th>12</th>\n",
              "      <td>0.001684</td>\n",
              "      <td>0.000008</td>\n",
              "      <td>0.000840</td>\n",
              "      <td>0.000060</td>\n",
              "      <td>5</td>\n",
              "      <td>0.1</td>\n",
              "      <td>{'alpha': 5, 'l1_ratio': 0.1}</td>\n",
              "      <td>-22.979265</td>\n",
              "      <td>-15.547104</td>\n",
              "      <td>-23.668249</td>\n",
              "      <td>-19.921063</td>\n",
              "      <td>-16.262737</td>\n",
              "      <td>-19.675684</td>\n",
              "      <td>3.334901</td>\n",
              "      <td>13</td>\n",
              "    </tr>\n",
              "    <tr>\n",
              "      <th>13</th>\n",
              "      <td>0.001644</td>\n",
              "      <td>0.000148</td>\n",
              "      <td>0.000786</td>\n",
              "      <td>0.000057</td>\n",
              "      <td>5</td>\n",
              "      <td>0.5</td>\n",
              "      <td>{'alpha': 5, 'l1_ratio': 0.5}</td>\n",
              "      <td>-27.793488</td>\n",
              "      <td>-18.602269</td>\n",
              "      <td>-27.107849</td>\n",
              "      <td>-23.945227</td>\n",
              "      <td>-18.064635</td>\n",
              "      <td>-23.102694</td>\n",
              "      <td>4.108297</td>\n",
              "      <td>14</td>\n",
              "    </tr>\n",
              "    <tr>\n",
              "      <th>14</th>\n",
              "      <td>0.004815</td>\n",
              "      <td>0.005800</td>\n",
              "      <td>0.002061</td>\n",
              "      <td>0.002446</td>\n",
              "      <td>5</td>\n",
              "      <td>0.7</td>\n",
              "      <td>{'alpha': 5, 'l1_ratio': 0.7}</td>\n",
              "      <td>-29.655510</td>\n",
              "      <td>-21.085059</td>\n",
              "      <td>-29.629478</td>\n",
              "      <td>-26.724595</td>\n",
              "      <td>-20.223654</td>\n",
              "      <td>-25.463659</td>\n",
              "      <td>4.077877</td>\n",
              "      <td>16</td>\n",
              "    </tr>\n",
              "    <tr>\n",
              "      <th>15</th>\n",
              "      <td>0.001680</td>\n",
              "      <td>0.000040</td>\n",
              "      <td>0.000805</td>\n",
              "      <td>0.000021</td>\n",
              "      <td>5</td>\n",
              "      <td>0.95</td>\n",
              "      <td>{'alpha': 5, 'l1_ratio': 0.95}</td>\n",
              "      <td>-31.130307</td>\n",
              "      <td>-22.549433</td>\n",
              "      <td>-31.155204</td>\n",
              "      <td>-27.963447</td>\n",
              "      <td>-21.698192</td>\n",
              "      <td>-26.899317</td>\n",
              "      <td>4.077240</td>\n",
              "      <td>17</td>\n",
              "    </tr>\n",
              "    <tr>\n",
              "      <th>16</th>\n",
              "      <td>0.001686</td>\n",
              "      <td>0.000021</td>\n",
              "      <td>0.000820</td>\n",
              "      <td>0.000047</td>\n",
              "      <td>5</td>\n",
              "      <td>0.99</td>\n",
              "      <td>{'alpha': 5, 'l1_ratio': 0.99}</td>\n",
              "      <td>-31.130307</td>\n",
              "      <td>-22.549433</td>\n",
              "      <td>-31.155204</td>\n",
              "      <td>-27.963447</td>\n",
              "      <td>-21.698192</td>\n",
              "      <td>-26.899317</td>\n",
              "      <td>4.077240</td>\n",
              "      <td>17</td>\n",
              "    </tr>\n",
              "    <tr>\n",
              "      <th>17</th>\n",
              "      <td>0.001680</td>\n",
              "      <td>0.000009</td>\n",
              "      <td>0.000854</td>\n",
              "      <td>0.000159</td>\n",
              "      <td>5</td>\n",
              "      <td>1</td>\n",
              "      <td>{'alpha': 5, 'l1_ratio': 1}</td>\n",
              "      <td>-31.130307</td>\n",
              "      <td>-22.549433</td>\n",
              "      <td>-31.155204</td>\n",
              "      <td>-27.963447</td>\n",
              "      <td>-21.698192</td>\n",
              "      <td>-26.899317</td>\n",
              "      <td>4.077240</td>\n",
              "      <td>17</td>\n",
              "    </tr>\n",
              "    <tr>\n",
              "      <th>18</th>\n",
              "      <td>0.002436</td>\n",
              "      <td>0.001541</td>\n",
              "      <td>0.000782</td>\n",
              "      <td>0.000014</td>\n",
              "      <td>10</td>\n",
              "      <td>0.1</td>\n",
              "      <td>{'alpha': 10, 'l1_ratio': 0.1}</td>\n",
              "      <td>-27.385346</td>\n",
              "      <td>-19.159534</td>\n",
              "      <td>-27.635464</td>\n",
              "      <td>-24.154104</td>\n",
              "      <td>-18.968161</td>\n",
              "      <td>-23.460522</td>\n",
              "      <td>3.794608</td>\n",
              "      <td>15</td>\n",
              "    </tr>\n",
              "    <tr>\n",
              "      <th>19</th>\n",
              "      <td>0.001578</td>\n",
              "      <td>0.000139</td>\n",
              "      <td>0.000747</td>\n",
              "      <td>0.000071</td>\n",
              "      <td>10</td>\n",
              "      <td>0.5</td>\n",
              "      <td>{'alpha': 10, 'l1_ratio': 0.5}</td>\n",
              "      <td>-31.130307</td>\n",
              "      <td>-22.549433</td>\n",
              "      <td>-31.155204</td>\n",
              "      <td>-27.963447</td>\n",
              "      <td>-21.698192</td>\n",
              "      <td>-26.899317</td>\n",
              "      <td>4.077240</td>\n",
              "      <td>17</td>\n",
              "    </tr>\n",
              "    <tr>\n",
              "      <th>20</th>\n",
              "      <td>0.001696</td>\n",
              "      <td>0.000043</td>\n",
              "      <td>0.000786</td>\n",
              "      <td>0.000013</td>\n",
              "      <td>10</td>\n",
              "      <td>0.7</td>\n",
              "      <td>{'alpha': 10, 'l1_ratio': 0.7}</td>\n",
              "      <td>-31.130307</td>\n",
              "      <td>-22.549433</td>\n",
              "      <td>-31.155204</td>\n",
              "      <td>-27.963447</td>\n",
              "      <td>-21.698192</td>\n",
              "      <td>-26.899317</td>\n",
              "      <td>4.077240</td>\n",
              "      <td>17</td>\n",
              "    </tr>\n",
              "    <tr>\n",
              "      <th>21</th>\n",
              "      <td>0.002823</td>\n",
              "      <td>0.001496</td>\n",
              "      <td>0.001012</td>\n",
              "      <td>0.000472</td>\n",
              "      <td>10</td>\n",
              "      <td>0.95</td>\n",
              "      <td>{'alpha': 10, 'l1_ratio': 0.95}</td>\n",
              "      <td>-31.130307</td>\n",
              "      <td>-22.549433</td>\n",
              "      <td>-31.155204</td>\n",
              "      <td>-27.963447</td>\n",
              "      <td>-21.698192</td>\n",
              "      <td>-26.899317</td>\n",
              "      <td>4.077240</td>\n",
              "      <td>17</td>\n",
              "    </tr>\n",
              "    <tr>\n",
              "      <th>22</th>\n",
              "      <td>0.001601</td>\n",
              "      <td>0.000068</td>\n",
              "      <td>0.000797</td>\n",
              "      <td>0.000057</td>\n",
              "      <td>10</td>\n",
              "      <td>0.99</td>\n",
              "      <td>{'alpha': 10, 'l1_ratio': 0.99}</td>\n",
              "      <td>-31.130307</td>\n",
              "      <td>-22.549433</td>\n",
              "      <td>-31.155204</td>\n",
              "      <td>-27.963447</td>\n",
              "      <td>-21.698192</td>\n",
              "      <td>-26.899317</td>\n",
              "      <td>4.077240</td>\n",
              "      <td>17</td>\n",
              "    </tr>\n",
              "    <tr>\n",
              "      <th>23</th>\n",
              "      <td>0.001590</td>\n",
              "      <td>0.000046</td>\n",
              "      <td>0.000750</td>\n",
              "      <td>0.000046</td>\n",
              "      <td>10</td>\n",
              "      <td>1</td>\n",
              "      <td>{'alpha': 10, 'l1_ratio': 1}</td>\n",
              "      <td>-31.130307</td>\n",
              "      <td>-22.549433</td>\n",
              "      <td>-31.155204</td>\n",
              "      <td>-27.963447</td>\n",
              "      <td>-21.698192</td>\n",
              "      <td>-26.899317</td>\n",
              "      <td>4.077240</td>\n",
              "      <td>17</td>\n",
              "    </tr>\n",
              "    <tr>\n",
              "      <th>24</th>\n",
              "      <td>0.001641</td>\n",
              "      <td>0.000285</td>\n",
              "      <td>0.000748</td>\n",
              "      <td>0.000051</td>\n",
              "      <td>50</td>\n",
              "      <td>0.1</td>\n",
              "      <td>{'alpha': 50, 'l1_ratio': 0.1}</td>\n",
              "      <td>-31.130307</td>\n",
              "      <td>-22.549433</td>\n",
              "      <td>-31.155204</td>\n",
              "      <td>-27.963447</td>\n",
              "      <td>-21.698192</td>\n",
              "      <td>-26.899317</td>\n",
              "      <td>4.077240</td>\n",
              "      <td>17</td>\n",
              "    </tr>\n",
              "    <tr>\n",
              "      <th>25</th>\n",
              "      <td>0.001609</td>\n",
              "      <td>0.000066</td>\n",
              "      <td>0.000760</td>\n",
              "      <td>0.000036</td>\n",
              "      <td>50</td>\n",
              "      <td>0.5</td>\n",
              "      <td>{'alpha': 50, 'l1_ratio': 0.5}</td>\n",
              "      <td>-31.130307</td>\n",
              "      <td>-22.549433</td>\n",
              "      <td>-31.155204</td>\n",
              "      <td>-27.963447</td>\n",
              "      <td>-21.698192</td>\n",
              "      <td>-26.899317</td>\n",
              "      <td>4.077240</td>\n",
              "      <td>17</td>\n",
              "    </tr>\n",
              "    <tr>\n",
              "      <th>26</th>\n",
              "      <td>0.001702</td>\n",
              "      <td>0.000147</td>\n",
              "      <td>0.000787</td>\n",
              "      <td>0.000023</td>\n",
              "      <td>50</td>\n",
              "      <td>0.7</td>\n",
              "      <td>{'alpha': 50, 'l1_ratio': 0.7}</td>\n",
              "      <td>-31.130307</td>\n",
              "      <td>-22.549433</td>\n",
              "      <td>-31.155204</td>\n",
              "      <td>-27.963447</td>\n",
              "      <td>-21.698192</td>\n",
              "      <td>-26.899317</td>\n",
              "      <td>4.077240</td>\n",
              "      <td>17</td>\n",
              "    </tr>\n",
              "    <tr>\n",
              "      <th>27</th>\n",
              "      <td>0.001752</td>\n",
              "      <td>0.000119</td>\n",
              "      <td>0.000821</td>\n",
              "      <td>0.000053</td>\n",
              "      <td>50</td>\n",
              "      <td>0.95</td>\n",
              "      <td>{'alpha': 50, 'l1_ratio': 0.95}</td>\n",
              "      <td>-31.130307</td>\n",
              "      <td>-22.549433</td>\n",
              "      <td>-31.155204</td>\n",
              "      <td>-27.963447</td>\n",
              "      <td>-21.698192</td>\n",
              "      <td>-26.899317</td>\n",
              "      <td>4.077240</td>\n",
              "      <td>17</td>\n",
              "    </tr>\n",
              "    <tr>\n",
              "      <th>28</th>\n",
              "      <td>0.002344</td>\n",
              "      <td>0.001570</td>\n",
              "      <td>0.000786</td>\n",
              "      <td>0.000039</td>\n",
              "      <td>50</td>\n",
              "      <td>0.99</td>\n",
              "      <td>{'alpha': 50, 'l1_ratio': 0.99}</td>\n",
              "      <td>-31.130307</td>\n",
              "      <td>-22.549433</td>\n",
              "      <td>-31.155204</td>\n",
              "      <td>-27.963447</td>\n",
              "      <td>-21.698192</td>\n",
              "      <td>-26.899317</td>\n",
              "      <td>4.077240</td>\n",
              "      <td>17</td>\n",
              "    </tr>\n",
              "    <tr>\n",
              "      <th>29</th>\n",
              "      <td>0.002006</td>\n",
              "      <td>0.000784</td>\n",
              "      <td>0.000746</td>\n",
              "      <td>0.000020</td>\n",
              "      <td>50</td>\n",
              "      <td>1</td>\n",
              "      <td>{'alpha': 50, 'l1_ratio': 1}</td>\n",
              "      <td>-31.130307</td>\n",
              "      <td>-22.549433</td>\n",
              "      <td>-31.155204</td>\n",
              "      <td>-27.963447</td>\n",
              "      <td>-21.698192</td>\n",
              "      <td>-26.899317</td>\n",
              "      <td>4.077240</td>\n",
              "      <td>17</td>\n",
              "    </tr>\n",
              "    <tr>\n",
              "      <th>30</th>\n",
              "      <td>0.001621</td>\n",
              "      <td>0.000091</td>\n",
              "      <td>0.000781</td>\n",
              "      <td>0.000053</td>\n",
              "      <td>100</td>\n",
              "      <td>0.1</td>\n",
              "      <td>{'alpha': 100, 'l1_ratio': 0.1}</td>\n",
              "      <td>-31.130307</td>\n",
              "      <td>-22.549433</td>\n",
              "      <td>-31.155204</td>\n",
              "      <td>-27.963447</td>\n",
              "      <td>-21.698192</td>\n",
              "      <td>-26.899317</td>\n",
              "      <td>4.077240</td>\n",
              "      <td>17</td>\n",
              "    </tr>\n",
              "    <tr>\n",
              "      <th>31</th>\n",
              "      <td>0.001577</td>\n",
              "      <td>0.000073</td>\n",
              "      <td>0.000772</td>\n",
              "      <td>0.000035</td>\n",
              "      <td>100</td>\n",
              "      <td>0.5</td>\n",
              "      <td>{'alpha': 100, 'l1_ratio': 0.5}</td>\n",
              "      <td>-31.130307</td>\n",
              "      <td>-22.549433</td>\n",
              "      <td>-31.155204</td>\n",
              "      <td>-27.963447</td>\n",
              "      <td>-21.698192</td>\n",
              "      <td>-26.899317</td>\n",
              "      <td>4.077240</td>\n",
              "      <td>17</td>\n",
              "    </tr>\n",
              "    <tr>\n",
              "      <th>32</th>\n",
              "      <td>0.002116</td>\n",
              "      <td>0.000965</td>\n",
              "      <td>0.000761</td>\n",
              "      <td>0.000020</td>\n",
              "      <td>100</td>\n",
              "      <td>0.7</td>\n",
              "      <td>{'alpha': 100, 'l1_ratio': 0.7}</td>\n",
              "      <td>-31.130307</td>\n",
              "      <td>-22.549433</td>\n",
              "      <td>-31.155204</td>\n",
              "      <td>-27.963447</td>\n",
              "      <td>-21.698192</td>\n",
              "      <td>-26.899317</td>\n",
              "      <td>4.077240</td>\n",
              "      <td>17</td>\n",
              "    </tr>\n",
              "    <tr>\n",
              "      <th>33</th>\n",
              "      <td>0.001562</td>\n",
              "      <td>0.000016</td>\n",
              "      <td>0.000760</td>\n",
              "      <td>0.000031</td>\n",
              "      <td>100</td>\n",
              "      <td>0.95</td>\n",
              "      <td>{'alpha': 100, 'l1_ratio': 0.95}</td>\n",
              "      <td>-31.130307</td>\n",
              "      <td>-22.549433</td>\n",
              "      <td>-31.155204</td>\n",
              "      <td>-27.963447</td>\n",
              "      <td>-21.698192</td>\n",
              "      <td>-26.899317</td>\n",
              "      <td>4.077240</td>\n",
              "      <td>17</td>\n",
              "    </tr>\n",
              "    <tr>\n",
              "      <th>34</th>\n",
              "      <td>0.001598</td>\n",
              "      <td>0.000168</td>\n",
              "      <td>0.000765</td>\n",
              "      <td>0.000033</td>\n",
              "      <td>100</td>\n",
              "      <td>0.99</td>\n",
              "      <td>{'alpha': 100, 'l1_ratio': 0.99}</td>\n",
              "      <td>-31.130307</td>\n",
              "      <td>-22.549433</td>\n",
              "      <td>-31.155204</td>\n",
              "      <td>-27.963447</td>\n",
              "      <td>-21.698192</td>\n",
              "      <td>-26.899317</td>\n",
              "      <td>4.077240</td>\n",
              "      <td>17</td>\n",
              "    </tr>\n",
              "    <tr>\n",
              "      <th>35</th>\n",
              "      <td>0.001604</td>\n",
              "      <td>0.000038</td>\n",
              "      <td>0.000734</td>\n",
              "      <td>0.000043</td>\n",
              "      <td>100</td>\n",
              "      <td>1</td>\n",
              "      <td>{'alpha': 100, 'l1_ratio': 1}</td>\n",
              "      <td>-31.130307</td>\n",
              "      <td>-22.549433</td>\n",
              "      <td>-31.155204</td>\n",
              "      <td>-27.963447</td>\n",
              "      <td>-21.698192</td>\n",
              "      <td>-26.899317</td>\n",
              "      <td>4.077240</td>\n",
              "      <td>17</td>\n",
              "    </tr>\n",
              "  </tbody>\n",
              "</table>\n",
              "</div>\n",
              "      <button class=\"colab-df-convert\" onclick=\"convertToInteractive('df-fc008f54-729c-45a5-b84c-662dd71b49c1')\"\n",
              "              title=\"Convert this dataframe to an interactive table.\"\n",
              "              style=\"display:none;\">\n",
              "        \n",
              "  <svg xmlns=\"http://www.w3.org/2000/svg\" height=\"24px\"viewBox=\"0 0 24 24\"\n",
              "       width=\"24px\">\n",
              "    <path d=\"M0 0h24v24H0V0z\" fill=\"none\"/>\n",
              "    <path d=\"M18.56 5.44l.94 2.06.94-2.06 2.06-.94-2.06-.94-.94-2.06-.94 2.06-2.06.94zm-11 1L8.5 8.5l.94-2.06 2.06-.94-2.06-.94L8.5 2.5l-.94 2.06-2.06.94zm10 10l.94 2.06.94-2.06 2.06-.94-2.06-.94-.94-2.06-.94 2.06-2.06.94z\"/><path d=\"M17.41 7.96l-1.37-1.37c-.4-.4-.92-.59-1.43-.59-.52 0-1.04.2-1.43.59L10.3 9.45l-7.72 7.72c-.78.78-.78 2.05 0 2.83L4 21.41c.39.39.9.59 1.41.59.51 0 1.02-.2 1.41-.59l7.78-7.78 2.81-2.81c.8-.78.8-2.07 0-2.86zM5.41 20L4 18.59l7.72-7.72 1.47 1.35L5.41 20z\"/>\n",
              "  </svg>\n",
              "      </button>\n",
              "      \n",
              "  <style>\n",
              "    .colab-df-container {\n",
              "      display:flex;\n",
              "      flex-wrap:wrap;\n",
              "      gap: 12px;\n",
              "    }\n",
              "\n",
              "    .colab-df-convert {\n",
              "      background-color: #E8F0FE;\n",
              "      border: none;\n",
              "      border-radius: 50%;\n",
              "      cursor: pointer;\n",
              "      display: none;\n",
              "      fill: #1967D2;\n",
              "      height: 32px;\n",
              "      padding: 0 0 0 0;\n",
              "      width: 32px;\n",
              "    }\n",
              "\n",
              "    .colab-df-convert:hover {\n",
              "      background-color: #E2EBFA;\n",
              "      box-shadow: 0px 1px 2px rgba(60, 64, 67, 0.3), 0px 1px 3px 1px rgba(60, 64, 67, 0.15);\n",
              "      fill: #174EA6;\n",
              "    }\n",
              "\n",
              "    [theme=dark] .colab-df-convert {\n",
              "      background-color: #3B4455;\n",
              "      fill: #D2E3FC;\n",
              "    }\n",
              "\n",
              "    [theme=dark] .colab-df-convert:hover {\n",
              "      background-color: #434B5C;\n",
              "      box-shadow: 0px 1px 3px 1px rgba(0, 0, 0, 0.15);\n",
              "      filter: drop-shadow(0px 1px 2px rgba(0, 0, 0, 0.3));\n",
              "      fill: #FFFFFF;\n",
              "    }\n",
              "  </style>\n",
              "\n",
              "      <script>\n",
              "        const buttonEl =\n",
              "          document.querySelector('#df-fc008f54-729c-45a5-b84c-662dd71b49c1 button.colab-df-convert');\n",
              "        buttonEl.style.display =\n",
              "          google.colab.kernel.accessAllowed ? 'block' : 'none';\n",
              "\n",
              "        async function convertToInteractive(key) {\n",
              "          const element = document.querySelector('#df-fc008f54-729c-45a5-b84c-662dd71b49c1');\n",
              "          const dataTable =\n",
              "            await google.colab.kernel.invokeFunction('convertToInteractive',\n",
              "                                                     [key], {});\n",
              "          if (!dataTable) return;\n",
              "\n",
              "          const docLinkHtml = 'Like what you see? Visit the ' +\n",
              "            '<a target=\"_blank\" href=https://colab.research.google.com/notebooks/data_table.ipynb>data table notebook</a>'\n",
              "            + ' to learn more about interactive tables.';\n",
              "          element.innerHTML = '';\n",
              "          dataTable['output_type'] = 'display_data';\n",
              "          await google.colab.output.renderOutput(dataTable, element);\n",
              "          const docLink = document.createElement('div');\n",
              "          docLink.innerHTML = docLinkHtml;\n",
              "          element.appendChild(docLink);\n",
              "        }\n",
              "      </script>\n",
              "    </div>\n",
              "  </div>\n",
              "  "
            ]
          },
          "metadata": {},
          "execution_count": 135
        }
      ]
    },
    {
      "cell_type": "markdown",
      "source": [
        "**If we're satisfied with results then, we use the founded alpha and l1 ratio. If we're not, we try the same procedure with different param_grid alpha velues and model cv values in grid_model etc. values. In this case we use the founded results.**"
      ],
      "metadata": {
        "id": "0rMGjs4e0TXV"
      }
    },
    {
      "cell_type": "code",
      "source": [
        "y_pred = grid_model.predict(X_test)"
      ],
      "metadata": {
        "id": "tdOaztN0zW6J"
      },
      "execution_count": null,
      "outputs": []
    },
    {
      "cell_type": "code",
      "source": [
        "from sklearn.metrics import mean_squared_error"
      ],
      "metadata": {
        "id": "BaJMWMPczl_0"
      },
      "execution_count": null,
      "outputs": []
    },
    {
      "cell_type": "code",
      "source": [
        "mean_squared_error(y_test,y_pred)"
      ],
      "metadata": {
        "colab": {
          "base_uri": "https://localhost:8080/",
          "height": 169
        },
        "id": "NUPn_Mxa0hjd",
        "outputId": "c97204df-29e6-467c-de64-8b67333c33ea"
      },
      "execution_count": null,
      "outputs": [
        {
          "output_type": "error",
          "ename": "NameError",
          "evalue": "ignored",
          "traceback": [
            "\u001b[0;31m---------------------------------------------------------------------------\u001b[0m",
            "\u001b[0;31mNameError\u001b[0m                                 Traceback (most recent call last)",
            "\u001b[0;32m<ipython-input-1-232b2974c435>\u001b[0m in \u001b[0;36m<module>\u001b[0;34m()\u001b[0m\n\u001b[0;32m----> 1\u001b[0;31m \u001b[0msmean_squared_error\u001b[0m\u001b[0;34m(\u001b[0m\u001b[0my_test\u001b[0m\u001b[0;34m,\u001b[0m\u001b[0my_pred\u001b[0m\u001b[0;34m)\u001b[0m\u001b[0;34m\u001b[0m\u001b[0;34m\u001b[0m\u001b[0m\n\u001b[0m",
            "\u001b[0;31mNameError\u001b[0m: name 'smean_squared_error' is not defined"
          ]
        }
      ]
    },
    {
      "cell_type": "code",
      "source": [
        ""
      ],
      "metadata": {
        "id": "kmFsA7pSlX-M"
      },
      "execution_count": null,
      "outputs": []
    }
  ]
}